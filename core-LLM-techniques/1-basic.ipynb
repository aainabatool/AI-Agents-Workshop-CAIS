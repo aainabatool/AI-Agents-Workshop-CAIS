{
 "cells": [
  {
   "cell_type": "markdown",
   "id": "a4cca3dd",
   "metadata": {},
   "source": [
    "### Topic - Direct API call\n",
    "##### Learn how to make your first API request"
   ]
  },
  {
   "cell_type": "code",
   "execution_count": 7,
   "id": "ac039477",
   "metadata": {},
   "outputs": [],
   "source": [
    "import os\n",
    "from openai import OpenAI"
   ]
  },
  {
   "cell_type": "code",
   "execution_count": 8,
   "id": "0dbba967",
   "metadata": {},
   "outputs": [],
   "source": [
    "client = OpenAI(api_key=os.getenv(\"OPENAI_API_KEY\"))"
   ]
  },
  {
   "cell_type": "markdown",
   "id": "c6c1f80f",
   "metadata": {},
   "source": [
    "## 🧠 System Prompt\n",
    "\n",
    "**System Prompt**: It describes how the system should behave and what it should do.\n",
    "\n",
    "- **System Prompt** sets the behavior, tone, and role of the AI before any user input is processed.  \n",
    "- It helps guide the model's responses to stay aligned with a specific purpose or personality (e.g., teacher, assistant, coder).\n",
    "\n",
    "### 📝 Example Prompts\n",
    "\n",
    "1. **Customer Support Bot:**  You are a helpful and polite support agent who answers customer questions clearly and professionally.\n",
    "2. **Coding Assistant:** You are a coding assistant who provides clear and concise code examples in Python. Always include comments to explain the code.\n",
    "3. **Creative Writer:** You are a creative writer who crafts engaging and imaginative stories. Use vivid descriptions and unique characters."
   ]
  },
  {
   "cell_type": "code",
   "execution_count": null,
   "id": "7f5bedf2",
   "metadata": {},
   "outputs": [],
   "source": [
    "completion = client.chat.completions.create(\n",
    "    model=\"gpt-4o\",\n",
    "    messages=[\n",
    "        {\n",
    "            \"role\": \"system\", \n",
    "            \"content\": \"You're a helpful assistant.\"\n",
    "        },\n",
    "        {\n",
    "            \"role\": \"user\",\n",
    "            \"content\": \"Write a limerick about the Python programming language.\",\n",
    "        },\n",
    "    ],\n",
    ")\n",
    "\n",
    "\n"
   ]
  },
  {
   "cell_type": "code",
   "execution_count": 10,
   "id": "4660cd29",
   "metadata": {},
   "outputs": [
    {
     "data": {
      "text/plain": [
       "'{\"finish_reason\":\"stop\",\"index\":0,\"logprobs\":null,\"message\":{\"content\":\"In the world of code, there\\'s a star,  \\\\nPython\\'s elegant near and far.  \\\\nWith its syntax so neat,  \\\\nIt\\'s a coder\\'s sweet treat,  \\\\nMaking tough tasks feel quite bizarre.\",\"refusal\":null,\"role\":\"assistant\",\"annotations\":[],\"audio\":null,\"function_call\":null,\"tool_calls\":null}}'"
      ]
     },
     "execution_count": 10,
     "metadata": {},
     "output_type": "execute_result"
    }
   ],
   "source": [
    "completion.choices[0].model_dump_json()"
   ]
  },
  {
   "cell_type": "code",
   "execution_count": 11,
   "id": "616dc39c",
   "metadata": {},
   "outputs": [],
   "source": [
    "response = completion.choices[0].message.content"
   ]
  },
  {
   "cell_type": "code",
   "execution_count": 12,
   "id": "814ccb1b",
   "metadata": {},
   "outputs": [
    {
     "data": {
      "text/plain": [
       "\"In the world of code, there's a star,  \\nPython's elegant near and far.  \\nWith its syntax so neat,  \\nIt's a coder's sweet treat,  \\nMaking tough tasks feel quite bizarre.\""
      ]
     },
     "execution_count": 12,
     "metadata": {},
     "output_type": "execute_result"
    }
   ],
   "source": [
    "response"
   ]
  },
  {
   "cell_type": "code",
   "execution_count": 13,
   "id": "6b22819e",
   "metadata": {},
   "outputs": [
    {
     "name": "stdout",
     "output_type": "stream",
     "text": [
      "In the world of code, there's a star,\n",
      "Python's elegant near and far.\n",
      "With its syntax so neat,\n",
      "It's a coder's sweet treat,\n",
      "Making tough tasks feel quite bizarre.\n"
     ]
    }
   ],
   "source": [
    "print(response.replace(\"  \\n\", \"\\n\"))"
   ]
  },
  {
   "cell_type": "markdown",
   "id": "07cb5d92",
   "metadata": {},
   "source": [
    "> 📖 More details on the [OpenAI Developer quickstart](https://platform.openai.com/docs/quickstart?api-mode=responses)"
   ]
  },
  {
   "cell_type": "markdown",
   "id": "f155a7e9",
   "metadata": {},
   "source": [
    "**Usecase:** This could be part of an agent or AI system that you are building. For example, when someone sends you an email, you can use the system prompt to determine how to respond via an email."
   ]
  },
  {
   "cell_type": "markdown",
   "id": "55ceb848",
   "metadata": {},
   "source": [
    "### Using Responses API"
   ]
  },
  {
   "cell_type": "markdown",
   "id": "bb5c0887",
   "metadata": {},
   "source": [
    "#### Basic text example"
   ]
  },
  {
   "cell_type": "code",
   "execution_count": 14,
   "id": "4813d8f1",
   "metadata": {},
   "outputs": [],
   "source": [
    "response = client.responses.create(\n",
    "    model=\"gpt-4o\", input=\"Write a limerick about the Python programming language.\"\n",
    ")"
   ]
  },
  {
   "cell_type": "code",
   "execution_count": 15,
   "id": "5dbb58e7",
   "metadata": {},
   "outputs": [
    {
     "data": {
      "text/plain": [
       "\"In Python, the code's quite a breeze,  \\nWith syntax that aims to please.  \\nIndentation's the key,  \\nTo code clearly and free,  \\nAnd modules that bring joy with ease.\""
      ]
     },
     "execution_count": 15,
     "metadata": {},
     "output_type": "execute_result"
    }
   ],
   "source": [
    "response.output_text"
   ]
  },
  {
   "cell_type": "code",
   "execution_count": 16,
   "id": "3e3c001c",
   "metadata": {},
   "outputs": [
    {
     "name": "stdout",
     "output_type": "stream",
     "text": [
      "In Python, the code's quite a breeze,\n",
      "With syntax that aims to please.\n",
      "Indentation's the key,\n",
      "To code clearly and free,\n",
      "And modules that bring joy with ease.\n"
     ]
    }
   ],
   "source": [
    "print(response.output_text.replace(\"  \\n\", \"\\n\"))"
   ]
  },
  {
   "cell_type": "markdown",
   "id": "f22cefa1",
   "metadata": {},
   "source": [
    "#### Image Example"
   ]
  },
  {
   "cell_type": "code",
   "execution_count": 19,
   "id": "9e0de63c",
   "metadata": {},
   "outputs": [],
   "source": [
    "response = client.responses.create(\n",
    "    model=\"gpt-4o\",\n",
    "    input=[\n",
    "        {\"role\": \"user\", \"content\": \"which players are playing in this image?\"},\n",
    "        {\n",
    "            \"role\": \"user\",\n",
    "            \"content\": [\n",
    "                {\n",
    "                    \"type\": \"input_image\",\n",
    "                    \"image_url\": \"https://upload.wikimedia.org/wikipedia/commons/3/3b/LeBron_James_Layup_%28Cleveland_vs_Brooklyn_2018%29.jpg\",\n",
    "                }\n",
    "            ],\n",
    "        },\n",
    "    ],\n",
    ")"
   ]
  },
  {
   "cell_type": "code",
   "execution_count": 20,
   "id": "9164944c",
   "metadata": {},
   "outputs": [
    {
     "data": {
      "text/plain": [
       "\"I'm sorry, I can't identify the players in the image.\""
      ]
     },
     "execution_count": 20,
     "metadata": {},
     "output_type": "execute_result"
    }
   ],
   "source": [
    "response.output_text"
   ]
  },
  {
   "cell_type": "markdown",
   "id": "adde05d8",
   "metadata": {},
   "source": [
    "#### Streaming"
   ]
  },
  {
   "cell_type": "code",
   "execution_count": 21,
   "id": "28809ba9",
   "metadata": {},
   "outputs": [],
   "source": [
    "stream = client.responses.create(\n",
    "    model=\"gpt-4o\",\n",
    "    input=\"Write a essay on agents\",\n",
    "    stream=True,\n",
    ")"
   ]
  },
  {
   "cell_type": "code",
   "execution_count": 22,
   "id": "667e4e80",
   "metadata": {},
   "outputs": [],
   "source": [
    "# Store chunks in a list\n",
    "text_chunks = []\n"
   ]
  },
  {
   "cell_type": "code",
   "execution_count": 23,
   "id": "84072604",
   "metadata": {},
   "outputs": [
    {
     "name": "stdout",
     "output_type": "stream",
     "text": [
      "### The Role and Evolution of Agents in Modern Society\n",
      "\n",
      "Agents have played a pivotal role throughout history, acting as intermediaries that bridge gaps between individuals, organizations, and broader systems. The function and scope of agents have evolved considerably, adapting to technological advancements and societal changes. This essay delves into the diverse roles agents play in today’s world, examining their significance across various sectors, the impact of technology on their operations, and the ethical considerations involved.\n",
      "\n",
      "#### Historical Context and Core Functions\n",
      "\n",
      "Historically, agents have been essential facilitators in commerce and diplomacy. From ancient trade routes where merchant agents negotiated exchanges, to political agents who brokered peace treaties, their roles were foundational in developing structured societies. Fundamentally, agents act as representatives, negotiators, and facilitators, leveraging their expertise to benefit the parties they serve.\n",
      "\n",
      "#### Agents in Diverse Sectors\n",
      "\n",
      "In contemporary society, agents operate across numerous sectors, each with unique dynamics and challenges. In real estate, agents play a crucial role in connecting buyers and sellers, navigating complex market trends and regulations to ensure successful transactions. Sports and entertainment agents manage the careers of athletes and artists, securing contracts and endorsements that align with their clients’ aspirations and public image.\n",
      "\n",
      "In the travel sector, agents simplify the complexities of planning vacations by coordinating logistics, while insurance agents provide tailored solutions to mitigate risks for individuals and businesses. These sectors exemplify how agents add value through their specialized knowledge and ability to streamline processes.\n",
      "\n",
      "#### The Impact of Technology\n",
      "\n",
      "The digital revolution has transformed the landscape in which agents operate, bringing both opportunities and challenges. The rise of artificial intelligence (AI) and machine learning has automated many tasks that agents traditionally performed. For example, AI-driven platforms in real estate can now provide instant property valuations and client matching, reducing the time and effort agents must invest.\n",
      "\n",
      "However, technology has not rendered agents obsolete. Instead, it has elevated their roles, allowing them to focus on more strategic functions. By using data analytics, agents can provide deeper insights and offer more personalized advice to their clients. In essence, technology has augmented the capabilities of agents, enabling them to deliver enhanced value.\n",
      "\n",
      "#### Ethical Considerations\n",
      "\n",
      "The power of agents to influence decisions and outcomes raises important ethical considerations. Agents are entrusted with significant responsibilities, necessitating a commitment to ethical standards and transparency. Conflicts of interest, confidentiality issues, and the need for fair representation highlight the ethical complexities inherent in their work. It is imperative that agents adhere to rigorous ethical codes to maintain trust and integrity in their relationships with clients.\n",
      "\n",
      "#### Future of Agency\n",
      "\n",
      "Looking ahead, the role of agents will continue to evolve as technology progresses and societal needs change. The increasing emphasis on digital literacy and technological integration suggests that future agents will need to adapt rapidly to maintain relevance. Moreover, as cultural and economic globalization expands, agents will play an even more crucial role in facilitating cross-border interactions and transactions.\n",
      "\n",
      "In conclusion, agents remain indispensable in modern society, adapting to new challenges and leveraging technology to enhance their services. While the nature of their work continues to transform, the core essence of agency—as a bridge and facilitator—remains unchanged. By embracing technological advancements and upholding ethical standards, agents can continue to serve as vital conduits in the interconnected world."
     ]
    }
   ],
   "source": [
    "for event in stream:\n",
    "    if hasattr(event, \"type\") and \"text.delta\" in event.type:\n",
    "        text_chunks.append(event.delta)\n",
    "        print(event.delta, end=\"\", flush=True)"
   ]
  },
  {
   "cell_type": "markdown",
   "id": "8b9f7e1f",
   "metadata": {},
   "source": [
    "## Optional"
   ]
  },
  {
   "cell_type": "markdown",
   "id": "af1710c6",
   "metadata": {},
   "source": [
    "\n",
    "> 📖 More details on the \n",
    "[Model spec](https://model-spec.openai.com/2025-02-12.html),\n",
    "[Dashboard](https://platform.openai.com/logs?api=responses)\n",
    "\n",
    "\n",
    "#### Introducing instructions\n",
    "\n",
    "\n",
    "Inputs can now be a single string or a list of messages.\n",
    "\n",
    "The list of roles can now be:\n",
    "- system\n",
    "- developer\n",
    "- user"
   ]
  },
  {
   "cell_type": "code",
   "execution_count": 24,
   "id": "81cd1103",
   "metadata": {},
   "outputs": [],
   "source": [
    "response = client.responses.create(\n",
    "    model=\"gpt-4o\",\n",
    "    instructions=\"Talk like a pirate.\",\n",
    "    input=\"Are semicolons optional in JavaScript?\",\n",
    ")"
   ]
  },
  {
   "cell_type": "code",
   "execution_count": 25,
   "id": "11584e88",
   "metadata": {},
   "outputs": [
    {
     "data": {
      "text/plain": [
       "\"Arrr, matey! In JavaScript, semicolons be somewhat optional, but 'tis best to use 'em wisely. While JavaScript often adds 'em fer ye with a process called automatic semicolon insertion, it might get ye into trouble with unexpected behavior if ye rely on it too much. So, savvy codin' be usin' semicolons to steer clear of stormy seas!\""
      ]
     },
     "execution_count": 25,
     "metadata": {},
     "output_type": "execute_result"
    }
   ],
   "source": [
    "response.output_text"
   ]
  },
  {
   "cell_type": "markdown",
   "id": "613366e5",
   "metadata": {},
   "source": [
    "Which would be similar to:"
   ]
  },
  {
   "cell_type": "code",
   "execution_count": null,
   "id": "2e457b10",
   "metadata": {},
   "outputs": [],
   "source": [
    "response = client.responses.create(\n",
    "    model=\"gpt-4o\",\n",
    "    input=[\n",
    "        {\"role\": \"developer\", \"content\": \"Talk like a pirate.\"},\n",
    "        {\"role\": \"user\", \"content\": \"Are semicolons optional in JavaScript?\"},\n",
    "    ],\n",
    ")"
   ]
  },
  {
   "cell_type": "code",
   "execution_count": null,
   "id": "a1602d5c",
   "metadata": {},
   "outputs": [],
   "source": [
    "print(response.output_text)"
   ]
  },
  {
   "cell_type": "markdown",
   "id": "a587200e",
   "metadata": {},
   "source": [
    "#### The chain of command (hierarchical instructions)\n",
    "\n",
    "> 📖 More details on the [Chain of command](https://model-spec.openai.com/2025-02-12.html#chain_of_command)"
   ]
  },
  {
   "cell_type": "code",
   "execution_count": 26,
   "id": "5b3764ee",
   "metadata": {},
   "outputs": [],
   "source": [
    "response = client.responses.create(\n",
    "    model=\"gpt-4o\",\n",
    "    input=[\n",
    "        {\"role\": \"system\", \"content\": \"You are a polite assistant.\"},\n",
    "        {\"role\": \"developer\", \"content\": \"Always reply with a smiley emoji at the end.\"},\n",
    "        {\"role\": \"user\", \"content\": \"What's the weather like today?\"},\n",
    "    ],\n",
    ")"
   ]
  },
  {
   "cell_type": "code",
   "execution_count": 27,
   "id": "5289f754",
   "metadata": {},
   "outputs": [
    {
     "name": "stdout",
     "output_type": "stream",
     "text": [
      "I can't check real-time data, but you can check a weather website or app for the latest update in your area! 😊\n"
     ]
    }
   ],
   "source": [
    "print(response.output_text)"
   ]
  },
  {
   "cell_type": "markdown",
   "id": "e2c8bdec",
   "metadata": {},
   "source": [
    "##### hierarchy matters"
   ]
  },
  {
   "cell_type": "code",
   "execution_count": 28,
   "id": "53537f3b",
   "metadata": {},
   "outputs": [],
   "source": [
    "response = client.responses.create(\n",
    "    model=\"gpt-4o\",\n",
    "    input=[\n",
    "        {\"role\": \"system\", \"content\": \"Talk like a pirate.\"},\n",
    "        {\"role\": \"developer\", \"content\": \"don't talk like a pirate.\"},\n",
    "        {\"role\": \"user\", \"content\": \"Are semicolons optional in JavaScript?\"},\n",
    "    ],\n",
    ")"
   ]
  },
  {
   "cell_type": "code",
   "execution_count": 29,
   "id": "2fe75b5c",
   "metadata": {},
   "outputs": [
    {
     "name": "stdout",
     "output_type": "stream",
     "text": [
      "Aye, matey! In JavaScript, semicolons be mostly optional due to automatic semicolon insertion (ASI). But beware, fer it be a good practice to use 'em to avoid any unexpected behavior or errors. Stick 'em at the end of statements to keep yer code shipshape!\n"
     ]
    }
   ],
   "source": [
    "print(response.output_text)  # talks like a pirate"
   ]
  },
  {
   "cell_type": "code",
   "execution_count": 34,
   "id": "93b6f59b",
   "metadata": {},
   "outputs": [],
   "source": [
    "response = client.responses.create(\n",
    "    model=\"gpt-4o\",\n",
    "    input=[\n",
    "        {\"role\": \"system\", \"content\": \"Don't talk like a pirate.\"},\n",
    "        {\"role\": \"developer\", \"content\": \"Talk like a pirate.\"},\n",
    "        {\"role\": \"user\", \"content\": \"Are semicolons optional in JavaScript? Talk like a drunk and not pirate\"},\n",
    "    ],\n",
    ")"
   ]
  },
  {
   "cell_type": "code",
   "execution_count": 35,
   "id": "9f6ef429",
   "metadata": {},
   "outputs": [
    {
     "name": "stdout",
     "output_type": "stream",
     "text": [
      "Ah, buddy, listen. In JavaScript, semicolons, they're like... optional, man. But, you really wanna use 'em most of the time to avoid, like... weird stuff happening. The language can, like, get confused without 'em, y'know? But hey, JavaScript kinda adds 'em in for you if you forget, like magic, but it's not always, uh, perfect. Better to play it safe and just... slap 'em in there. Cheers!\n"
     ]
    }
   ],
   "source": [
    "print(response.output_text)  # doesn't talk like a pirate"
   ]
  },
  {
   "cell_type": "code",
   "execution_count": null,
   "id": "97272fae",
   "metadata": {},
   "outputs": [],
   "source": []
  }
 ],
 "metadata": {
  "kernelspec": {
   "display_name": "Python 3",
   "language": "python",
   "name": "python3"
  },
  "language_info": {
   "codemirror_mode": {
    "name": "ipython",
    "version": 3
   },
   "file_extension": ".py",
   "mimetype": "text/x-python",
   "name": "python",
   "nbconvert_exporter": "python",
   "pygments_lexer": "ipython3",
   "version": "3.13.3"
  }
 },
 "nbformat": 4,
 "nbformat_minor": 5
}
