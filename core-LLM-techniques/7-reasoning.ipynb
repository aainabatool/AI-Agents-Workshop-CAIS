{
 "cells": [
  {
   "cell_type": "markdown",
   "id": "b9f82395",
   "metadata": {},
   "source": [
    "### Topic - Reasoning\n"
   ]
  },
  {
   "cell_type": "code",
   "execution_count": 1,
   "id": "06bd7e04",
   "metadata": {},
   "outputs": [],
   "source": [
    "from openai import OpenAI\n",
    "\n",
    "client = OpenAI()"
   ]
  },
  {
   "cell_type": "markdown",
   "id": "7624959d",
   "metadata": {},
   "source": [
    "> 📖 More details of Responses on the [OpenAI Docs](https://platform.openai.com/docs/guides/reasoning?api-mode=responses)"
   ]
  },
  {
   "cell_type": "code",
   "execution_count": 2,
   "id": "9a03aa3a",
   "metadata": {},
   "outputs": [],
   "source": [
    "prompt = \"\"\"\n",
    "Write a bash script that takes a matrix represented as a string with \n",
    "format '[1,2],[3,4],[5,6]' and prints the transpose in the same format.\n",
    "\"\"\""
   ]
  },
  {
   "cell_type": "code",
   "execution_count": 3,
   "id": "69f5a0dd",
   "metadata": {},
   "outputs": [],
   "source": [
    "response = client.responses.create(\n",
    "    model=\"o3-mini\",\n",
    "    reasoning={\"effort\": \"medium\"},\n",
    "    input=[{\"role\": \"user\", \"content\": prompt}],\n",
    ")"
   ]
  },
  {
   "cell_type": "code",
   "execution_count": 4,
   "id": "4e133d30",
   "metadata": {},
   "outputs": [
    {
     "name": "stdout",
     "output_type": "stream",
     "text": [
      "Below is one solution in bash. Save the script (for example as transpose.sh), make it executable (chmod +x transpose.sh) and then run it with the matrix string as an argument.\n",
      "\n",
      "Below is the complete code:\n",
      "\n",
      "------------------------------------------------------------\n",
      "#!/bin/bash\n",
      "#\n",
      "# Usage: ./transpose.sh '[1,2],[3,4],[5,6]'\n",
      "#\n",
      "# This script takes a matrix represented as one string in a row‐wise format\n",
      "# (each row wrapped in square brackets and separated by commas), for example:\n",
      "#   [1,2],[3,4],[5,6]\n",
      "# and prints its transpose in the same format.\n",
      "#\n",
      "\n",
      "# Make sure one argument is provided.\n",
      "if [ \"$#\" -ne 1 ]; then\n",
      "  echo \"Usage: $0 '[1,2],[3,4],[5,6]'\"\n",
      "  exit 1\n",
      "fi\n",
      "\n",
      "matrix_str=\"$1\"\n",
      "\n",
      "# We'll break the string into rows. We assume each row is enclosed in [ ]\n",
      "# and the rows are separated by \"],\". We use sed to insert newline after every \"],\".\n",
      "rows_data=$(echo \"$matrix_str\" | sed 's/],/]\\n/g')\n",
      "\n",
      "# Declare an array to hold each row (as a space-separated list of numbers)\n",
      "declare -a rows_array\n",
      "\n",
      "row=0\n",
      "col_count=0\n",
      "# Read through each row, remove the surrounding square brackets, and split by comma.\n",
      "while IFS= read -r line; do\n",
      "  # Remove any leading '[' and trailing ']' from the row string.\n",
      "  clean_row=$(echo \"$line\" | sed 's/^\\[//; s/\\]$//')\n",
      "  # Skip if the line is empty.\n",
      "  if [ -z \"$clean_row\" ]; then\n",
      "    continue\n",
      "  fi\n",
      "  # Split the clean_row by comma into an array.\n",
      "  IFS=',' read -r -a cols <<< \"$clean_row\"\n",
      "  \n",
      "  # For the first row record the number of columns.\n",
      "  if [ $row -eq 0 ]; then\n",
      "    col_count=${#cols[@]}\n",
      "  fi\n",
      "\n",
      "  # Store the row as a space-separated string of numbers.\n",
      "  rows_array[$row]=\"${cols[*]}\"\n",
      "  ((row++))\n",
      "done <<< \"$rows_data\"\n",
      "\n",
      "row_count=$row\n",
      "\n",
      "# Build the transpose.\n",
      "# The transposed matrix will have col_count rows and row_count columns.\n",
      "output=\"\"\n",
      "for (( j=0; j<col_count; j++ )); do\n",
      "  # Start the new row with an opening bracket.\n",
      "  trans_row=\"[\"\n",
      "  for (( i=0; i<row_count; i++ )); do\n",
      "    # Convert the row string back to an array to access the j-th element.\n",
      "    arr=(${rows_array[i]})\n",
      "    trans_row+=\"${arr[j]}\"\n",
      "    # Append a comma if this is not the last element.\n",
      "    if [ $i -lt $((row_count - 1)) ]; then\n",
      "      trans_row+=\",\"\n",
      "    fi\n",
      "  done\n",
      "  trans_row+=\"]\"\n",
      "  \n",
      "  # Append the row to the output string. Separate rows by a comma.\n",
      "  if [ $j -lt $((col_count - 1)) ]; then\n",
      "    output+=\"${trans_row},\"\n",
      "  else\n",
      "    output+=\"${trans_row}\"\n",
      "  fi\n",
      "done\n",
      "\n",
      "# Print the transpose in the same format.\n",
      "echo \"$output\"\n",
      "\n",
      "------------------------------------------------------------\n",
      "\n",
      "How the script works:\n",
      "\n",
      "1. It uses sed to break the input string into separate lines (one per row) by replacing every \"],\" with a newline.\n",
      "2. Each row is then cleaned (removing the brackets) and split by commas into an array.\n",
      "3. We store the rows in an array so that each element holds one row’s numbers.\n",
      "4. Then we build the transpose using two nested loops:\n",
      "  • The outer loop runs over the columns (which become the new rows).\n",
      "  • The inner loop picks the corresponding element from each original row.\n",
      "5. Finally, the script prints the transposed matrix in the same format as the input.\n",
      "\n",
      "Example:\n",
      "\n",
      "$ ./transpose.sh '[1,2],[3,4],[5,6]'\n",
      "Output:\n",
      "[1,3,5],[2,4,6]\n",
      "\n",
      "This solution meets the requirements using bash only.\n"
     ]
    }
   ],
   "source": [
    "print(response.output_text)"
   ]
  }
 ],
 "metadata": {
  "kernelspec": {
   "display_name": "Python 3",
   "language": "python",
   "name": "python3"
  },
  "language_info": {
   "codemirror_mode": {
    "name": "ipython",
    "version": 3
   },
   "file_extension": ".py",
   "mimetype": "text/x-python",
   "name": "python",
   "nbconvert_exporter": "python",
   "pygments_lexer": "ipython3",
   "version": "3.13.3"
  }
 },
 "nbformat": 4,
 "nbformat_minor": 5
}
