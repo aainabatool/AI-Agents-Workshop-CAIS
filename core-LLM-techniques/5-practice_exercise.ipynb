{
 "cells": [
  {
   "cell_type": "markdown",
   "id": "81162c41",
   "metadata": {},
   "source": [
    "#### **Quetion:** By seeing the 3-tools.ipynb and 4-retrieval.ipynb notebooks,  can you able to combine both of the tools?"
   ]
  },
  {
   "cell_type": "code",
   "execution_count": 1,
   "id": "06c6e402",
   "metadata": {},
   "outputs": [],
   "source": [
    "import json\n",
    "import os\n",
    "\n",
    "import requests\n",
    "from openai import OpenAI\n",
    "\n",
    "client = OpenAI(api_key=os.getenv(\"OPENAI_API_KEY\"))"
   ]
  },
  {
   "cell_type": "code",
   "execution_count": 2,
   "id": "49630097",
   "metadata": {},
   "outputs": [],
   "source": [
    "tools = [\n",
    "    {\n",
    "        \"type\": \"function\",\n",
    "        \"name\": \"get_weather\",\n",
    "        \"description\": \"Get current temperature for provided coordinates in Celsius.\",\n",
    "        \"parameters\": {\n",
    "            \"type\": \"object\",\n",
    "            \"properties\": {\n",
    "                \"latitude\": {\"type\": \"number\", \"description\": \"Latitude of the location.\"},\n",
    "                \"longitude\": {\"type\": \"number\", \"description\": \"Longitude of the location.\"},\n",
    "            },\n",
    "            \"required\": [\"latitude\", \"longitude\"],\n",
    "            \"additionalProperties\": False,\n",
    "        },\n",
    "    },\n",
    "    {\n",
    "        \"type\": \"function\",\n",
    "        \"name\": \"search_kb\",\n",
    "        \"description\": \"Get the answer to the user's question from the knowledge base.\",\n",
    "        \"parameters\": {\n",
    "            \"type\": \"object\",\n",
    "            \"properties\": {\n",
    "                \"question\": {\"type\": \"string\", \"description\": \"The user's question to search in the knowledge base.\"},\n",
    "            },\n",
    "            \"required\": [\"question\"],\n",
    "            \"additionalProperties\": False,\n",
    "        },\n",
    "    },\n",
    "]\n"
   ]
  },
  {
   "cell_type": "code",
   "execution_count": 3,
   "id": "97edf2bb",
   "metadata": {},
   "outputs": [],
   "source": [
    "system_message = \"You are a helpful assistant that can answer product-related questions from our knowledge base or provide weather updates based on location.\""
   ]
  },
  {
   "cell_type": "code",
   "execution_count": 4,
   "id": "245eabc6",
   "metadata": {},
   "outputs": [],
   "source": [
    "response = client.responses.create(\n",
    "    model=\"gpt-4o\",\n",
    "    input=[\n",
    "        {\"role\": \"system\", \"content\": system_message},\n",
    "        {\"role\": \"user\", \"content\": \"What is the return policy?\"},\n",
    "    ],\n",
    "    tools=tools,\n",
    ")\n"
   ]
  },
  {
   "cell_type": "code",
   "execution_count": 5,
   "id": "be8c858e",
   "metadata": {},
   "outputs": [
    {
     "name": "stdout",
     "output_type": "stream",
     "text": [
      "{\n",
      "  \"arguments\": \"{\\\"question\\\":\\\"What is the return policy?\\\"}\",\n",
      "  \"call_id\": \"call_YEM2j2ebgzn6gkZpEWOZsmAY\",\n",
      "  \"name\": \"search_kb\",\n",
      "  \"type\": \"function_call\",\n",
      "  \"id\": \"fc_6819a5ec91f4819186652973b04a2364003ff4b2a5794b48\",\n",
      "  \"status\": \"completed\"\n",
      "}\n"
     ]
    }
   ],
   "source": [
    "print(response.output[0].model_dump_json(indent=2))"
   ]
  },
  {
   "cell_type": "code",
   "execution_count": 6,
   "id": "6a2b5094",
   "metadata": {},
   "outputs": [],
   "source": [
    "response_2 = client.responses.create(\n",
    "    model=\"gpt-4o\",\n",
    "    input=[\n",
    "        {\"role\": \"system\", \"content\": system_message},\n",
    "        {\"role\": \"user\", \"content\": \"What's the weather like in Paris today?\"},\n",
    "    ],\n",
    "    tools=tools,\n",
    ")"
   ]
  },
  {
   "cell_type": "code",
   "execution_count": 7,
   "id": "028059c9",
   "metadata": {},
   "outputs": [
    {
     "name": "stdout",
     "output_type": "stream",
     "text": [
      "{\n",
      "  \"arguments\": \"{\\\"latitude\\\":48.8566,\\\"longitude\\\":2.3522}\",\n",
      "  \"call_id\": \"call_iDFz4KmyeBEa0lrfpjQlzUHm\",\n",
      "  \"name\": \"get_weather\",\n",
      "  \"type\": \"function_call\",\n",
      "  \"id\": \"fc_6819a5ee2d288191b3a6a08db2b2181004c2971c25f3e10e\",\n",
      "  \"status\": \"completed\"\n",
      "}\n"
     ]
    }
   ],
   "source": [
    "print(response_2.output[0].model_dump_json(indent=2))"
   ]
  },
  {
   "cell_type": "code",
   "execution_count": null,
   "id": "27924986",
   "metadata": {},
   "outputs": [],
   "source": []
  },
  {
   "cell_type": "code",
   "execution_count": null,
   "id": "7897d74d",
   "metadata": {},
   "outputs": [],
   "source": []
  },
  {
   "cell_type": "code",
   "execution_count": null,
   "id": "1caa9aae",
   "metadata": {},
   "outputs": [],
   "source": []
  }
 ],
 "metadata": {
  "kernelspec": {
   "display_name": "Python 3",
   "language": "python",
   "name": "python3"
  },
  "language_info": {
   "codemirror_mode": {
    "name": "ipython",
    "version": 3
   },
   "file_extension": ".py",
   "mimetype": "text/x-python",
   "name": "python",
   "nbconvert_exporter": "python",
   "pygments_lexer": "ipython3",
   "version": "3.13.3"
  }
 },
 "nbformat": 4,
 "nbformat_minor": 5
}
