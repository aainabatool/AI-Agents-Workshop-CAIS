{
 "cells": [
  {
   "cell_type": "markdown",
   "id": "08124339",
   "metadata": {},
   "source": [
    "### Topic - Structured output\n",
    "##### Ensure responses adhere to a JSON scheme"
   ]
  },
  {
   "cell_type": "code",
   "execution_count": 1,
   "id": "252635aa",
   "metadata": {},
   "outputs": [],
   "source": [
    "import os\n",
    "\n",
    "from openai import OpenAI\n",
    "from pydantic import BaseModel"
   ]
  },
  {
   "cell_type": "code",
   "execution_count": 2,
   "id": "844e6214",
   "metadata": {},
   "outputs": [],
   "source": [
    "client = OpenAI(api_key=os.getenv(\"OPENAI_API_KEY\"))"
   ]
  },
  {
   "cell_type": "markdown",
   "id": "53451dcf",
   "metadata": {},
   "source": [
    "## 🧾 Structured Response\n",
    "\n",
    "**Structured Response**: Guides the AI to return answers in a specific format, such as JSON.\n",
    "\n",
    "- Helps make the output easier to parse and use in applications.\n",
    "- Useful when integrating AI with other systems or when consistent formatting is needed.\n",
    "\n"
   ]
  },
  {
   "cell_type": "markdown",
   "id": "1430be93",
   "metadata": {},
   "source": [
    "#### Step 1: Define the response format in a Pydantic model"
   ]
  },
  {
   "cell_type": "markdown",
   "id": "e0f54150",
   "metadata": {},
   "source": [
    "**Context:** Let's say you are creating a AI Agent that can help you to book and schedule or chage appointments."
   ]
  },
  {
   "cell_type": "code",
   "execution_count": 3,
   "id": "74ca49ae",
   "metadata": {},
   "outputs": [],
   "source": [
    "class CalendarEvent(BaseModel):\n",
    "    name: str\n",
    "    date: str\n",
    "    participants: list[str]"
   ]
  },
  {
   "cell_type": "markdown",
   "id": "843fb17e",
   "metadata": {},
   "source": [
    "#### Step 2: Call the model"
   ]
  },
  {
   "cell_type": "code",
   "execution_count": 4,
   "id": "d79890ff",
   "metadata": {},
   "outputs": [],
   "source": [
    "completion = client.beta.chat.completions.parse(\n",
    "    model=\"gpt-4o\",\n",
    "    messages=[\n",
    "        {\"role\": \"system\", \"content\": \"Extract the event information.\"},\n",
    "        {\n",
    "            \"role\": \"user\",\n",
    "            \"content\": \"Alice and Bob are going to a science fair on Friday.\",\n",
    "        },\n",
    "    ],\n",
    "    response_format=CalendarEvent,\n",
    ")"
   ]
  },
  {
   "cell_type": "markdown",
   "id": "ec497642",
   "metadata": {},
   "source": [
    "#### Step 3: Parse the response"
   ]
  },
  {
   "cell_type": "code",
   "execution_count": 5,
   "id": "8a23ca61",
   "metadata": {},
   "outputs": [],
   "source": [
    "event = completion.choices[0].message.parsed\n"
   ]
  },
  {
   "cell_type": "code",
   "execution_count": 6,
   "id": "06e61f71",
   "metadata": {},
   "outputs": [
    {
     "data": {
      "text/plain": [
       "CalendarEvent(name='Science Fair', date='2023-11-03', participants=['Alice', 'Bob'])"
      ]
     },
     "execution_count": 6,
     "metadata": {},
     "output_type": "execute_result"
    }
   ],
   "source": [
    "event"
   ]
  },
  {
   "cell_type": "code",
   "execution_count": 7,
   "id": "e2c06f5e",
   "metadata": {},
   "outputs": [
    {
     "data": {
      "text/plain": [
       "'Science Fair'"
      ]
     },
     "execution_count": 7,
     "metadata": {},
     "output_type": "execute_result"
    }
   ],
   "source": [
    "event.name\n"
   ]
  },
  {
   "cell_type": "code",
   "execution_count": 8,
   "id": "26b320b7",
   "metadata": {},
   "outputs": [
    {
     "data": {
      "text/plain": [
       "'2023-11-03'"
      ]
     },
     "execution_count": 8,
     "metadata": {},
     "output_type": "execute_result"
    }
   ],
   "source": [
    "event.date\n"
   ]
  },
  {
   "cell_type": "code",
   "execution_count": 9,
   "id": "7d774939",
   "metadata": {},
   "outputs": [
    {
     "data": {
      "text/plain": [
       "['Alice', 'Bob']"
      ]
     },
     "execution_count": 9,
     "metadata": {},
     "output_type": "execute_result"
    }
   ],
   "source": [
    "event.participants"
   ]
  },
  {
   "cell_type": "markdown",
   "id": "f1ebf869",
   "metadata": {},
   "source": [
    "**Usecase:** Let's say we have a Google Calendar API and we can create an event. "
   ]
  },
  {
   "cell_type": "markdown",
   "id": "d9a387f6",
   "metadata": {},
   "source": [
    "> 📖 More details of Structured Outputs on the [OpenAI Docs](https://platform.openai.com/docs/guides/structured-outputs?api-mode=responses)"
   ]
  },
  {
   "cell_type": "markdown",
   "id": "53e31dee",
   "metadata": {},
   "source": [
    "## LATEST"
   ]
  },
  {
   "cell_type": "markdown",
   "id": "e93a0658",
   "metadata": {},
   "source": [
    "#### Using a Pydantic model (and simple response format)"
   ]
  },
  {
   "cell_type": "code",
   "execution_count": 10,
   "id": "4d4dcca3",
   "metadata": {},
   "outputs": [],
   "source": [
    "response = client.responses.parse(\n",
    "    model=\"gpt-4o\",\n",
    "    input=\"Alice and Bob are going to a science fair on Friday\",\n",
    "    instructions=\"Extract the event information\",\n",
    "    text_format=CalendarEvent,\n",
    ")"
   ]
  },
  {
   "cell_type": "code",
   "execution_count": 11,
   "id": "438efb62",
   "metadata": {},
   "outputs": [],
   "source": [
    "response_model = response.output[0].content[0].parsed"
   ]
  },
  {
   "cell_type": "code",
   "execution_count": 12,
   "id": "ab374e03",
   "metadata": {},
   "outputs": [
    {
     "data": {
      "text/plain": [
       "__main__.CalendarEvent"
      ]
     },
     "execution_count": 12,
     "metadata": {},
     "output_type": "execute_result"
    }
   ],
   "source": [
    "type(response_model)"
   ]
  },
  {
   "cell_type": "code",
   "execution_count": 13,
   "id": "62541b46",
   "metadata": {},
   "outputs": [
    {
     "data": {
      "text/plain": [
       "'Science Fair'"
      ]
     },
     "execution_count": 13,
     "metadata": {},
     "output_type": "execute_result"
    }
   ],
   "source": [
    "response_model.name"
   ]
  },
  {
   "cell_type": "code",
   "execution_count": 14,
   "id": "b3d8504a",
   "metadata": {},
   "outputs": [
    {
     "data": {
      "text/plain": [
       "'Friday'"
      ]
     },
     "execution_count": 14,
     "metadata": {},
     "output_type": "execute_result"
    }
   ],
   "source": [
    "response_model.date"
   ]
  },
  {
   "cell_type": "code",
   "execution_count": 15,
   "id": "933123f2",
   "metadata": {},
   "outputs": [
    {
     "data": {
      "text/plain": [
       "['Alice', 'Bob']"
      ]
     },
     "execution_count": 15,
     "metadata": {},
     "output_type": "execute_result"
    }
   ],
   "source": [
    "response_model.participants"
   ]
  },
  {
   "cell_type": "markdown",
   "id": "961a5bcd",
   "metadata": {},
   "source": [
    "#### Real-world example\n"
   ]
  },
  {
   "cell_type": "code",
   "execution_count": 16,
   "id": "c2d92177",
   "metadata": {},
   "outputs": [],
   "source": [
    "class ListingSearch(BaseModel):\n",
    "    location: str\n",
    "    intent: str\n",
    "    price_range: str | None = None\n",
    "    property_type: str | None = None\n",
    "    bedrooms: int | None = None\n"
   ]
  },
  {
   "cell_type": "code",
   "execution_count": 24,
   "id": "87af958c",
   "metadata": {},
   "outputs": [],
   "source": [
    "\n",
    "completion = client.beta.chat.completions.parse(\n",
    "    model=\"gpt-4o\",\n",
    "    messages=[\n",
    "        {\n",
    "            \"role\": \"system\",\n",
    "            \"content\": \"Extract structured real estate search parameters from the user's message.\",\n",
    "        },\n",
    "        {\n",
    "            \"role\": \"user\",\n",
    "            \"content\": \"Find me a 3-bedroom house in San Francisco under $1 million.\",\n",
    "        },\n",
    "    ],\n",
    "    response_format=ListingSearch,\n",
    ")"
   ]
  },
  {
   "cell_type": "code",
   "execution_count": 25,
   "id": "82af5b44",
   "metadata": {},
   "outputs": [],
   "source": [
    "search_params = completion.choices[0].message.parsed"
   ]
  },
  {
   "cell_type": "code",
   "execution_count": 26,
   "id": "aee8d5e3",
   "metadata": {},
   "outputs": [
    {
     "data": {
      "text/plain": [
       "ListingSearch(location='San Francisco', intent='buy', price_range='under $1 million', property_type='house', bedrooms=3)"
      ]
     },
     "execution_count": 26,
     "metadata": {},
     "output_type": "execute_result"
    }
   ],
   "source": [
    "search_params"
   ]
  },
  {
   "cell_type": "code",
   "execution_count": 27,
   "id": "a496edc5",
   "metadata": {},
   "outputs": [],
   "source": [
    "import json\n",
    "with open(\"listing.json\", \"r\") as file:\n",
    "    listings = json.load(file)"
   ]
  },
  {
   "cell_type": "code",
   "execution_count": 28,
   "id": "a1bb4731",
   "metadata": {},
   "outputs": [],
   "source": [
    "def filter_listings(listings, search_params):\n",
    "    filtered = []\n",
    "    for listing in listings:\n",
    "        if (\n",
    "            listing[\"location\"].lower() == search_params.location.lower()\n",
    "            and listing[\"intent\"].lower() == search_params.intent.lower()\n",
    "            and listing[\"property_type\"].lower() == search_params.property_type.lower()\n",
    "            and listing[\"bedrooms\"] == search_params.bedrooms\n",
    "            and (not search_params.price_range or listing[\"price\"] <= 1000000)\n",
    "        ):\n",
    "            filtered.append(listing)\n",
    "    return filtered"
   ]
  },
  {
   "cell_type": "code",
   "execution_count": 29,
   "id": "075243c1",
   "metadata": {},
   "outputs": [],
   "source": [
    "matching_listings = filter_listings(listings, search_params)"
   ]
  },
  {
   "cell_type": "code",
   "execution_count": 30,
   "id": "1e4aa7a7",
   "metadata": {},
   "outputs": [
    {
     "name": "stdout",
     "output_type": "stream",
     "text": [
      "Matching Listings:\n",
      "- 3BHK house in San Francisco for $950000\n"
     ]
    }
   ],
   "source": [
    "if matching_listings:\n",
    "    print(\"Matching Listings:\")\n",
    "    for listing in matching_listings:\n",
    "        print(\n",
    "            f\"- {listing['bedrooms']}BHK {listing['property_type']} in {listing['location']} for ${listing['price']}\"\n",
    "        )\n",
    "else:\n",
    "    print(\"No matching listings found.\")"
   ]
  },
  {
   "cell_type": "code",
   "execution_count": null,
   "id": "31fb24ea",
   "metadata": {},
   "outputs": [],
   "source": []
  }
 ],
 "metadata": {
  "kernelspec": {
   "display_name": "Python 3",
   "language": "python",
   "name": "python3"
  },
  "language_info": {
   "codemirror_mode": {
    "name": "ipython",
    "version": 3
   },
   "file_extension": ".py",
   "mimetype": "text/x-python",
   "name": "python",
   "nbconvert_exporter": "python",
   "pygments_lexer": "ipython3",
   "version": "3.13.3"
  }
 },
 "nbformat": 4,
 "nbformat_minor": 5
}
