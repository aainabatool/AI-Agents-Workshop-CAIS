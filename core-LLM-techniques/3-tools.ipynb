{
 "cells": [
  {
   "cell_type": "markdown",
   "id": "7e1324f9",
   "metadata": {},
   "source": [
    "### Topic - Using tools\n",
    "##### Enable models to fetch data and take actions."
   ]
  },
  {
   "cell_type": "code",
   "execution_count": 1,
   "id": "2f7a5900",
   "metadata": {},
   "outputs": [],
   "source": [
    "import json\n",
    "import os\n",
    "\n",
    "import requests\n",
    "from openai import OpenAI\n",
    "from pydantic import BaseModel, Field"
   ]
  },
  {
   "cell_type": "code",
   "execution_count": 2,
   "id": "543b655c",
   "metadata": {},
   "outputs": [],
   "source": [
    "client = OpenAI(api_key=os.getenv(\"OPENAI_API_KEY\"))"
   ]
  },
  {
   "cell_type": "markdown",
   "id": "ec02d828",
   "metadata": {},
   "source": [
    "## 🛠️ Function Calling\n",
    "\n",
    "**Function Calling**: Lets the AI call your backend functions with structured arguments based on the user's request.\n",
    "\n",
    "- Allows dynamic interaction between AI and external tools or APIs.\n",
    "- Useful for tasks like retrieving data, triggering actions, or generating responses based on real-time inputs.\n"
   ]
  },
  {
   "cell_type": "markdown",
   "id": "9ea07ad0",
   "metadata": {},
   "source": [
    "---\n",
    "**Introduction:** Using a Weather API, we can model it as a tool and make it available to the LLM. Based on the context, the LLM looks at the available tools and, depending on the user's input or question, decides whether it wants to use the tool or not."
   ]
  },
  {
   "cell_type": "markdown",
   "id": "2f8e9299",
   "metadata": {},
   "source": [
    "##### Define the tool (function) that we want to call\n"
   ]
  },
  {
   "cell_type": "code",
   "execution_count": 3,
   "id": "3f38fd46",
   "metadata": {},
   "outputs": [],
   "source": [
    "def get_weather(latitude, longitude):\n",
    "    \"\"\"This is a publically available API that returns the weather for a given location.\"\"\"\n",
    "    response = requests.get(\n",
    "        f\"https://api.open-meteo.com/v1/forecast?latitude={latitude}&longitude={longitude}&current=temperature_2m,wind_speed_10m&hourly=temperature_2m,relative_humidity_2m,wind_speed_10m\"\n",
    "    )\n",
    "    data = response.json()\n",
    "    return data[\"current\"]"
   ]
  },
  {
   "cell_type": "markdown",
   "id": "8aee7172",
   "metadata": {},
   "source": [
    "#### Step 1: Call model with get_weather tool defined\n"
   ]
  },
  {
   "cell_type": "code",
   "execution_count": 4,
   "id": "63ddf5b2",
   "metadata": {},
   "outputs": [],
   "source": [
    "tools = [\n",
    "    {\n",
    "        \"type\": \"function\",\n",
    "        \"function\": {\n",
    "            \"name\": \"get_weather\",\n",
    "            \"description\": \"Get current temperature for provided coordinates in celsius.\",\n",
    "            \"parameters\": {\n",
    "                \"type\": \"object\",\n",
    "                \"properties\": {\n",
    "                    \"latitude\": {\"type\": \"number\"},\n",
    "                    \"longitude\": {\"type\": \"number\"},\n",
    "                },\n",
    "                \"required\": [\"latitude\", \"longitude\"],\n",
    "                \"additionalProperties\": False,\n",
    "            },\n",
    "            \"strict\": True,\n",
    "        },\n",
    "    }\n",
    "]\n"
   ]
  },
  {
   "cell_type": "code",
   "execution_count": 5,
   "id": "19202ec9",
   "metadata": {},
   "outputs": [],
   "source": [
    "system_prompt = \"You are a helpful weather assistant.\""
   ]
  },
  {
   "cell_type": "code",
   "execution_count": 6,
   "id": "09f2096a",
   "metadata": {},
   "outputs": [],
   "source": [
    "messages = [\n",
    "    {\"role\": \"system\", \"content\": system_prompt},\n",
    "    {\"role\": \"user\", \"content\": \"What's the weather like in Paris today?\"},\n",
    "]\n"
   ]
  },
  {
   "cell_type": "code",
   "execution_count": 7,
   "id": "0e5fdd0e",
   "metadata": {},
   "outputs": [],
   "source": [
    "completion = client.chat.completions.create(\n",
    "    model=\"gpt-4o\",\n",
    "    messages=messages,\n",
    "    tools=tools,\n",
    ")"
   ]
  },
  {
   "cell_type": "markdown",
   "id": "c2a56be7",
   "metadata": {},
   "source": [
    "#### Step 2: Model decides to call function(s)\n"
   ]
  },
  {
   "cell_type": "code",
   "execution_count": 8,
   "id": "dff3a502",
   "metadata": {},
   "outputs": [
    {
     "data": {
      "text/plain": [
       "{'id': 'chatcmpl-BU5IEsV3bgs0WkvCmajrAaTU2JQnS',\n",
       " 'choices': [{'finish_reason': 'tool_calls',\n",
       "   'index': 0,\n",
       "   'logprobs': None,\n",
       "   'message': {'content': None,\n",
       "    'refusal': None,\n",
       "    'role': 'assistant',\n",
       "    'annotations': [],\n",
       "    'audio': None,\n",
       "    'function_call': None,\n",
       "    'tool_calls': [{'id': 'call_aUiL56QHAhLapmKMdfBlhPW5',\n",
       "      'function': {'arguments': '{\"latitude\":48.8566,\"longitude\":2.3522}',\n",
       "       'name': 'get_weather'},\n",
       "      'type': 'function'}]}}],\n",
       " 'created': 1746509886,\n",
       " 'model': 'gpt-4o-2024-08-06',\n",
       " 'object': 'chat.completion',\n",
       " 'service_tier': 'default',\n",
       " 'system_fingerprint': 'fp_d8864f8b6b',\n",
       " 'usage': {'completion_tokens': 25,\n",
       "  'prompt_tokens': 66,\n",
       "  'total_tokens': 91,\n",
       "  'completion_tokens_details': {'accepted_prediction_tokens': 0,\n",
       "   'audio_tokens': 0,\n",
       "   'reasoning_tokens': 0,\n",
       "   'rejected_prediction_tokens': 0},\n",
       "  'prompt_tokens_details': {'audio_tokens': 0, 'cached_tokens': 0}}}"
      ]
     },
     "execution_count": 8,
     "metadata": {},
     "output_type": "execute_result"
    }
   ],
   "source": [
    "completion.model_dump()"
   ]
  },
  {
   "cell_type": "code",
   "execution_count": 9,
   "id": "ecb8d924",
   "metadata": {},
   "outputs": [
    {
     "name": "stdout",
     "output_type": "stream",
     "text": [
      "{\n",
      "    \"id\": \"call_aUiL56QHAhLapmKMdfBlhPW5\",\n",
      "    \"function\": {\n",
      "        \"arguments\": \"{\\\"latitude\\\":48.8566,\\\"longitude\\\":2.3522}\",\n",
      "        \"name\": \"get_weather\"\n",
      "    },\n",
      "    \"type\": \"function\"\n",
      "}\n"
     ]
    }
   ],
   "source": [
    "tool_calls = completion.choices[0].message.tool_calls\n",
    "formatted_tool_call = json.dumps(tool_calls[0].model_dump(), indent=4)\n",
    "print(formatted_tool_call)\n"
   ]
  },
  {
   "cell_type": "markdown",
   "id": "bf4d2608",
   "metadata": {},
   "source": [
    "#### Step 3: Execute get_weather function"
   ]
  },
  {
   "cell_type": "markdown",
   "id": "2e9ddb0b",
   "metadata": {},
   "source": [
    "**Important Note:** The LLM is not going to call the tool for you. It will just return the function call with the parameters that you need to pass to the function. "
   ]
  },
  {
   "cell_type": "code",
   "execution_count": 10,
   "id": "fbbc677b",
   "metadata": {},
   "outputs": [],
   "source": [
    "def call_function(name, args):\n",
    "    if name == \"get_weather\":\n",
    "        return get_weather(**args)"
   ]
  },
  {
   "cell_type": "code",
   "execution_count": 11,
   "id": "91503bac",
   "metadata": {},
   "outputs": [],
   "source": [
    "for tool_call in tool_calls:\n",
    "    name = tool_call.function.name\n",
    "    args = json.loads(tool_call.function.arguments)\n",
    "    messages.append(completion.choices[0].message)\n",
    "\n",
    "    result = call_function(name, args)\n",
    "    messages.append(\n",
    "        {\"role\": \"tool\", \"tool_call_id\": tool_call.id, \"content\": json.dumps(result)}\n",
    "    )"
   ]
  },
  {
   "cell_type": "code",
   "execution_count": 12,
   "id": "323fa7e9",
   "metadata": {},
   "outputs": [
    {
     "data": {
      "text/plain": [
       "'get_weather'"
      ]
     },
     "execution_count": 12,
     "metadata": {},
     "output_type": "execute_result"
    }
   ],
   "source": [
    "name"
   ]
  },
  {
   "cell_type": "code",
   "execution_count": 13,
   "id": "5b14cf48",
   "metadata": {},
   "outputs": [
    {
     "data": {
      "text/plain": [
       "{'latitude': 48.8566, 'longitude': 2.3522}"
      ]
     },
     "execution_count": 13,
     "metadata": {},
     "output_type": "execute_result"
    }
   ],
   "source": [
    "args"
   ]
  },
  {
   "cell_type": "code",
   "execution_count": 14,
   "id": "0d6df537",
   "metadata": {},
   "outputs": [
    {
     "data": {
      "text/plain": [
       "[{'role': 'system', 'content': 'You are a helpful weather assistant.'},\n",
       " {'role': 'user', 'content': \"What's the weather like in Paris today?\"},\n",
       " ChatCompletionMessage(content=None, refusal=None, role='assistant', annotations=[], audio=None, function_call=None, tool_calls=[ChatCompletionMessageToolCall(id='call_aUiL56QHAhLapmKMdfBlhPW5', function=Function(arguments='{\"latitude\":48.8566,\"longitude\":2.3522}', name='get_weather'), type='function')]),\n",
       " {'role': 'tool',\n",
       "  'tool_call_id': 'call_aUiL56QHAhLapmKMdfBlhPW5',\n",
       "  'content': '{\"time\": \"2025-05-06T05:30\", \"interval\": 900, \"temperature_2m\": 7.2, \"wind_speed_10m\": 14.5}'}]"
      ]
     },
     "execution_count": 14,
     "metadata": {},
     "output_type": "execute_result"
    }
   ],
   "source": [
    "messages"
   ]
  },
  {
   "cell_type": "code",
   "execution_count": 15,
   "id": "b7243732",
   "metadata": {},
   "outputs": [
    {
     "data": {
      "text/plain": [
       "{'time': '2025-05-06T05:30',\n",
       " 'interval': 900,\n",
       " 'temperature_2m': 7.2,\n",
       " 'wind_speed_10m': 14.5}"
      ]
     },
     "execution_count": 15,
     "metadata": {},
     "output_type": "execute_result"
    }
   ],
   "source": [
    "result"
   ]
  },
  {
   "cell_type": "markdown",
   "id": "650e8898",
   "metadata": {},
   "source": [
    "#### Step 4: Supply result and call model again"
   ]
  },
  {
   "cell_type": "code",
   "execution_count": 16,
   "id": "6c0971c2",
   "metadata": {},
   "outputs": [],
   "source": [
    "class WeatherResponse(BaseModel):\n",
    "    temperature: float = Field(\n",
    "        description=\"The current temperature in celsius for the given location.\"\n",
    "    )\n",
    "    response: str = Field(\n",
    "        description=\"A natural language response to the user's question.\"\n",
    "    )"
   ]
  },
  {
   "cell_type": "code",
   "execution_count": 17,
   "id": "53ae42af",
   "metadata": {},
   "outputs": [],
   "source": [
    "completion_2 = client.beta.chat.completions.parse(\n",
    "    model=\"gpt-4o\",\n",
    "    messages=messages,\n",
    "    tools=tools,\n",
    "    response_format=WeatherResponse,\n",
    ")\n",
    "\n"
   ]
  },
  {
   "cell_type": "markdown",
   "id": "23b1776a",
   "metadata": {},
   "source": [
    "#### Step 5: Check model response"
   ]
  },
  {
   "cell_type": "code",
   "execution_count": 18,
   "id": "cbfdb867",
   "metadata": {},
   "outputs": [],
   "source": [
    "final_response = completion_2.choices[0].message.parsed"
   ]
  },
  {
   "cell_type": "code",
   "execution_count": 19,
   "id": "9c3107d0",
   "metadata": {},
   "outputs": [
    {
     "data": {
      "text/plain": [
       "{'temperature': 7.2,\n",
       " 'response': 'The current temperature in Paris is 7.2°C with a wind speed of 14.5 km/h.'}"
      ]
     },
     "execution_count": 19,
     "metadata": {},
     "output_type": "execute_result"
    }
   ],
   "source": [
    "final_response.model_dump()"
   ]
  },
  {
   "cell_type": "code",
   "execution_count": 20,
   "id": "e6ae45e6",
   "metadata": {},
   "outputs": [
    {
     "data": {
      "text/plain": [
       "7.2"
      ]
     },
     "execution_count": 20,
     "metadata": {},
     "output_type": "execute_result"
    }
   ],
   "source": [
    "final_response.temperature"
   ]
  },
  {
   "cell_type": "code",
   "execution_count": 21,
   "id": "d79bd32c",
   "metadata": {},
   "outputs": [
    {
     "data": {
      "text/plain": [
       "'The current temperature in Paris is 7.2°C with a wind speed of 14.5 km/h.'"
      ]
     },
     "execution_count": 21,
     "metadata": {},
     "output_type": "execute_result"
    }
   ],
   "source": [
    "final_response.response"
   ]
  },
  {
   "cell_type": "markdown",
   "id": "bb2e69a0",
   "metadata": {},
   "source": [
    "> 📖 More details of Function Calling on the [OpenAI Docs](https://platform.openai.com/docs/guides/function-calling)\n",
    "\n"
   ]
  },
  {
   "cell_type": "markdown",
   "id": "eefcd248",
   "metadata": {},
   "source": [
    "## LATEST"
   ]
  },
  {
   "cell_type": "code",
   "execution_count": 22,
   "id": "723a2800",
   "metadata": {},
   "outputs": [],
   "source": [
    "from openai import OpenAI\n",
    "\n",
    "client = OpenAI()"
   ]
  },
  {
   "cell_type": "code",
   "execution_count": 23,
   "id": "75816ac3",
   "metadata": {},
   "outputs": [],
   "source": [
    "tools = [\n",
    "    {\n",
    "        \"type\": \"function\",\n",
    "        \"name\": \"send_email\",\n",
    "        \"description\": \"Send an email to a given recipient with a subject and message.\",\n",
    "        \"parameters\": {\n",
    "            \"type\": \"object\",\n",
    "            \"properties\": {\n",
    "                \"to\": {\"type\": \"string\", \"description\": \"The recipient email address.\"},\n",
    "                \"subject\": {\"type\": \"string\", \"description\": \"Email subject line.\"},\n",
    "                \"body\": {\"type\": \"string\", \"description\": \"Body of the email message.\"},\n",
    "            },\n",
    "            \"required\": [\"to\", \"subject\", \"body\"],\n",
    "            \"additionalProperties\": False,\n",
    "        },\n",
    "    }\n",
    "]"
   ]
  },
  {
   "cell_type": "code",
   "execution_count": 24,
   "id": "1eb93ce7",
   "metadata": {},
   "outputs": [],
   "source": [
    "response = client.responses.create(\n",
    "    model=\"gpt-4o\",\n",
    "    input=\"Can you send an email to ilan@example.com and katia@example.com saying hi?\",\n",
    "    tools=tools,\n",
    ")"
   ]
  },
  {
   "cell_type": "code",
   "execution_count": 25,
   "id": "3fa28d14",
   "metadata": {},
   "outputs": [
    {
     "name": "stdout",
     "output_type": "stream",
     "text": [
      "[ResponseFunctionToolCall(arguments='{\"to\":\"ilan@example.com\",\"subject\":\"Hello!\",\"body\":\"Hi Ilan!\"}', call_id='call_AcpCbVCKokzCv8NMP8ZUaUBW', name='send_email', type='function_call', id='fc_6819a3c12ff4819193a73c0d68035a2e0de88d257e540096', status='completed'), ResponseFunctionToolCall(arguments='{\"to\":\"katia@example.com\",\"subject\":\"Hello!\",\"body\":\"Hi Katia!\"}', call_id='call_msBJbhAgfV0X87gGRA23rCO8', name='send_email', type='function_call', id='fc_6819a3c17a7081919528ed0d178cdda50de88d257e540096', status='completed')]\n"
     ]
    }
   ],
   "source": [
    "print(response.output)"
   ]
  },
  {
   "cell_type": "code",
   "execution_count": 29,
   "id": "7fd2613a",
   "metadata": {},
   "outputs": [
    {
     "name": "stdout",
     "output_type": "stream",
     "text": [
      "{\n",
      "  \"arguments\": \"{\\\"to\\\":\\\"ilan@example.com\\\",\\\"subject\\\":\\\"Hello!\\\",\\\"body\\\":\\\"Hi Ilan!\\\"}\",\n",
      "  \"call_id\": \"call_AcpCbVCKokzCv8NMP8ZUaUBW\",\n",
      "  \"name\": \"send_email\",\n",
      "  \"type\": \"function_call\",\n",
      "  \"id\": \"fc_6819a3c12ff4819193a73c0d68035a2e0de88d257e540096\",\n",
      "  \"status\": \"completed\"\n",
      "}\n"
     ]
    }
   ],
   "source": [
    "print(response.output[0].model_dump_json(indent=2))"
   ]
  },
  {
   "cell_type": "code",
   "execution_count": 27,
   "id": "ad77f775",
   "metadata": {},
   "outputs": [
    {
     "name": "stdout",
     "output_type": "stream",
     "text": [
      "{\n",
      "  \"arguments\": \"{\\\"to\\\":\\\"katia@example.com\\\",\\\"subject\\\":\\\"Hello!\\\",\\\"body\\\":\\\"Hi Katia!\\\"}\",\n",
      "  \"call_id\": \"call_msBJbhAgfV0X87gGRA23rCO8\",\n",
      "  \"name\": \"send_email\",\n",
      "  \"type\": \"function_call\",\n",
      "  \"id\": \"fc_6819a3c17a7081919528ed0d178cdda50de88d257e540096\",\n",
      "  \"status\": \"completed\"\n",
      "}\n"
     ]
    }
   ],
   "source": [
    "print(response.output[1].model_dump_json(indent=2))"
   ]
  },
  {
   "cell_type": "code",
   "execution_count": 30,
   "id": "a7f50207",
   "metadata": {},
   "outputs": [
    {
     "ename": "IndexError",
     "evalue": "list index out of range",
     "output_type": "error",
     "traceback": [
      "\u001b[31m---------------------------------------------------------------------------\u001b[39m",
      "\u001b[31mIndexError\u001b[39m                                Traceback (most recent call last)",
      "\u001b[36mCell\u001b[39m\u001b[36m \u001b[39m\u001b[32mIn[30]\u001b[39m\u001b[32m, line 1\u001b[39m\n\u001b[32m----> \u001b[39m\u001b[32m1\u001b[39m \u001b[38;5;28mprint\u001b[39m(\u001b[43mresponse\u001b[49m\u001b[43m.\u001b[49m\u001b[43moutput\u001b[49m\u001b[43m[\u001b[49m\u001b[32;43m2\u001b[39;49m\u001b[43m]\u001b[49m.model_dump_json(indent=\u001b[32m2\u001b[39m))\n",
      "\u001b[31mIndexError\u001b[39m: list index out of range"
     ]
    }
   ],
   "source": [
    "print(response.output[2].model_dump_json(indent=2))"
   ]
  },
  {
   "cell_type": "code",
   "execution_count": null,
   "id": "6a96e1d0",
   "metadata": {},
   "outputs": [],
   "source": []
  }
 ],
 "metadata": {
  "kernelspec": {
   "display_name": "Python 3",
   "language": "python",
   "name": "python3"
  },
  "language_info": {
   "codemirror_mode": {
    "name": "ipython",
    "version": 3
   },
   "file_extension": ".py",
   "mimetype": "text/x-python",
   "name": "python",
   "nbconvert_exporter": "python",
   "pygments_lexer": "ipython3",
   "version": "3.13.3"
  }
 },
 "nbformat": 4,
 "nbformat_minor": 5
}
