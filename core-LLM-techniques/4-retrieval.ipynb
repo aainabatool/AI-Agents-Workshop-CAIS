{
 "cells": [
  {
   "cell_type": "markdown",
   "id": "3a2cd281",
   "metadata": {},
   "source": [
    "### Topic - Retrieval\n",
    "##### Using tools to get data from the context"
   ]
  },
  {
   "cell_type": "code",
   "execution_count": 1,
   "id": "f2bd76a3",
   "metadata": {},
   "outputs": [],
   "source": [
    "import json\n",
    "import os\n",
    "\n",
    "from openai import OpenAI\n",
    "from pydantic import BaseModel, Field"
   ]
  },
  {
   "cell_type": "code",
   "execution_count": 2,
   "id": "a0c94c24",
   "metadata": {},
   "outputs": [],
   "source": [
    "client = OpenAI(api_key=os.getenv(\"OPENAI_API_KEY\"))"
   ]
  },
  {
   "cell_type": "markdown",
   "id": "d5ba678c",
   "metadata": {},
   "source": [
    "## 🛠️ Function Calling\n",
    "\n",
    "**Function Calling**: Lets the AI call your backend functions with structured arguments based on the user's request.\n",
    "\n",
    "- Allows dynamic interaction between AI and external tools or APIs.\n",
    "- Useful for tasks like retrieving data, triggering actions, or generating responses based on real-time inputs.\n",
    "\n",
    "### 🔧 Example: Knowledge Base Search\n",
    "\n",
    "This example demonstrates how an LLM can answer questions by calling a custom `search_kb` function that reads from a local JSON knowledge base.\n",
    "\n",
    "#### 🔹 Steps Overview\n",
    "\n",
    "1. **Define a function tool**  \n",
    "   A function `search_kb(question)` is exposed to the model with a clear description and parameter schema.\n",
    "\n",
    "2. **Model decides to use the tool**  \n",
    "   The model evaluates the prompt and determines whether to call the function (e.g., for \"What is the return policy?\").\n",
    "\n",
    "3. **Tool execution**  \n",
    "   If the tool is selected, the backend extracts the tool name and arguments, runs the function, and returns the result.\n",
    "\n",
    "4. **Return final answer**  \n",
    "   The result from the tool is appended to the messages, and the model is called again to generate the final, user-facing response.\n",
    "\n",
    "5. **Fallback case**  \n",
    "   If the user asks something irrelevant (e.g., \"What's the weather in Tokyo?\"), the model may choose not to call the function.\n"
   ]
  },
  {
   "cell_type": "markdown",
   "id": "d6ab79ae",
   "metadata": {},
   "source": [
    "---\n",
    "##### Define the knowledge base retrieval tool\n"
   ]
  },
  {
   "cell_type": "code",
   "execution_count": 3,
   "id": "164f120f",
   "metadata": {},
   "outputs": [],
   "source": [
    "def search_kb(question: str):\n",
    "    \"\"\"\n",
    "    Load the whole knowledge base from the JSON file.\n",
    "    (This is a mock function for demonstration purposes, we don't search)\n",
    "    \"\"\"\n",
    "    with open(\"kb.json\", \"r\") as f:\n",
    "        return json.load(f)\n"
   ]
  },
  {
   "cell_type": "markdown",
   "id": "8079519a",
   "metadata": {},
   "source": [
    "#### Step 1: Call model with search_kb tool defined\n"
   ]
  },
  {
   "cell_type": "code",
   "execution_count": 4,
   "id": "fb157cd0",
   "metadata": {},
   "outputs": [],
   "source": [
    "tools = [\n",
    "    {\n",
    "        \"type\": \"function\",\n",
    "        \"function\": {\n",
    "            \"name\": \"search_kb\",\n",
    "            \"description\": \"Get the answer to the user's question from the knowledge base.\",\n",
    "            \"parameters\": {\n",
    "                \"type\": \"object\",\n",
    "                \"properties\": {\n",
    "                    \"question\": {\"type\": \"string\"},\n",
    "                },\n",
    "                \"required\": [\"question\"],\n",
    "                \"additionalProperties\": False,\n",
    "            },\n",
    "            \"strict\": True,\n",
    "        },\n",
    "    }\n",
    "]"
   ]
  },
  {
   "cell_type": "code",
   "execution_count": 12,
   "id": "b3e44c8c",
   "metadata": {},
   "outputs": [],
   "source": [
    "system_prompt = \"You are a helpful assistant that answers questions from the knowledge base about our e-commerce store.\"\n",
    "\n",
    "messages = [\n",
    "    {\"role\": \"system\", \"content\": system_prompt},\n",
    "    {\"role\": \"user\", \"content\": \"policy to reurn?\"},\n",
    "]\n",
    "\n",
    "completion = client.chat.completions.create(\n",
    "    model=\"gpt-4o\",\n",
    "    messages=messages,\n",
    "    tools=tools,\n",
    ")\n",
    "\n"
   ]
  },
  {
   "cell_type": "markdown",
   "id": "e50bc050",
   "metadata": {},
   "source": [
    "#### Step 2: Model decides to call function(s)\n"
   ]
  },
  {
   "cell_type": "code",
   "execution_count": 13,
   "id": "36aaa8a3",
   "metadata": {},
   "outputs": [
    {
     "data": {
      "text/plain": [
       "{'id': 'chatcmpl-BU5bF7R6zx0SWG1xJvJ6omLWk9Ing',\n",
       " 'choices': [{'finish_reason': 'tool_calls',\n",
       "   'index': 0,\n",
       "   'logprobs': None,\n",
       "   'message': {'content': None,\n",
       "    'refusal': None,\n",
       "    'role': 'assistant',\n",
       "    'annotations': [],\n",
       "    'audio': None,\n",
       "    'function_call': None,\n",
       "    'tool_calls': [{'id': 'call_yKE7XdoiAhG6OQ9MvTOQmimL',\n",
       "      'function': {'arguments': '{\"question\":\"return policy\"}',\n",
       "       'name': 'search_kb'},\n",
       "      'type': 'function'}]}}],\n",
       " 'created': 1746511065,\n",
       " 'model': 'gpt-4o-2024-08-06',\n",
       " 'object': 'chat.completion',\n",
       " 'service_tier': 'default',\n",
       " 'system_fingerprint': 'fp_f5bdcc3276',\n",
       " 'usage': {'completion_tokens': 17,\n",
       "  'prompt_tokens': 73,\n",
       "  'total_tokens': 90,\n",
       "  'completion_tokens_details': {'accepted_prediction_tokens': 0,\n",
       "   'audio_tokens': 0,\n",
       "   'reasoning_tokens': 0,\n",
       "   'rejected_prediction_tokens': 0},\n",
       "  'prompt_tokens_details': {'audio_tokens': 0, 'cached_tokens': 0}}}"
      ]
     },
     "execution_count": 13,
     "metadata": {},
     "output_type": "execute_result"
    }
   ],
   "source": [
    "\n",
    "completion.model_dump()"
   ]
  },
  {
   "cell_type": "markdown",
   "id": "9728b808",
   "metadata": {},
   "source": [
    "#### Step 3: Execute search_kb function"
   ]
  },
  {
   "cell_type": "code",
   "execution_count": 14,
   "id": "969ce77c",
   "metadata": {},
   "outputs": [],
   "source": [
    "def call_function(name, args):\n",
    "    if name == \"search_kb\":\n",
    "        return search_kb(**args)\n"
   ]
  },
  {
   "cell_type": "code",
   "execution_count": 15,
   "id": "13e2491c",
   "metadata": {},
   "outputs": [],
   "source": [
    "for tool_call in completion.choices[0].message.tool_calls:\n",
    "    name = tool_call.function.name\n",
    "    args = json.loads(tool_call.function.arguments)\n",
    "    messages.append(completion.choices[0].message)\n",
    "\n",
    "    result = call_function(name, args)\n",
    "    messages.append(\n",
    "        {\"role\": \"tool\", \"tool_call_id\": tool_call.id, \"content\": json.dumps(result)}\n",
    "    )\n"
   ]
  },
  {
   "cell_type": "code",
   "execution_count": 16,
   "id": "3ebaeb48",
   "metadata": {},
   "outputs": [
    {
     "data": {
      "text/plain": [
       "'search_kb'"
      ]
     },
     "execution_count": 16,
     "metadata": {},
     "output_type": "execute_result"
    }
   ],
   "source": [
    "name"
   ]
  },
  {
   "cell_type": "code",
   "execution_count": 17,
   "id": "768797aa",
   "metadata": {},
   "outputs": [
    {
     "data": {
      "text/plain": [
       "{'question': 'return policy'}"
      ]
     },
     "execution_count": 17,
     "metadata": {},
     "output_type": "execute_result"
    }
   ],
   "source": [
    "args"
   ]
  },
  {
   "cell_type": "code",
   "execution_count": 11,
   "id": "d1e46bc6",
   "metadata": {},
   "outputs": [
    {
     "data": {
      "text/plain": [
       "[{'role': 'system',\n",
       "  'content': 'You are a helpful assistant that answers questions from the knowledge base about our e-commerce store.'},\n",
       " {'role': 'user', 'content': 'What is the return policy?'},\n",
       " ChatCompletionMessage(content=None, refusal=None, role='assistant', annotations=[], audio=None, function_call=None, tool_calls=[ChatCompletionMessageToolCall(id='call_ZVBZhUzVejz887x4EbkV9Pfs', function=Function(arguments='{\"question\":\"What is the return policy?\"}', name='search_kb'), type='function')]),\n",
       " {'role': 'tool',\n",
       "  'tool_call_id': 'call_ZVBZhUzVejz887x4EbkV9Pfs',\n",
       "  'content': '{\"records\": [{\"id\": 1, \"question\": \"What is the return policy?\", \"answer\": \"Items can be returned within 30 days of purchase with original receipt. Refunds will be processed to the original payment method within 5-7 business days.\"}, {\"id\": 2, \"question\": \"Do you ship internationally?\", \"answer\": \"Yes, we ship to over 50 countries worldwide. International shipping typically takes 7-14 business days and costs vary by destination. Please note that customs fees may apply.\"}, {\"id\": 3, \"question\": \"What payment methods do you accept?\", \"answer\": \"We accept Visa, Mastercard, American Express, PayPal, and Apple Pay. All payments are processed securely through our encrypted payment system.\"}]}'}]"
      ]
     },
     "execution_count": 11,
     "metadata": {},
     "output_type": "execute_result"
    }
   ],
   "source": [
    "messages"
   ]
  },
  {
   "cell_type": "code",
   "execution_count": 18,
   "id": "fc0f0eca",
   "metadata": {},
   "outputs": [
    {
     "data": {
      "text/plain": [
       "{'records': [{'id': 1,\n",
       "   'question': 'What is the return policy?',\n",
       "   'answer': 'Items can be returned within 30 days of purchase with original receipt. Refunds will be processed to the original payment method within 5-7 business days.'},\n",
       "  {'id': 2,\n",
       "   'question': 'Do you ship internationally?',\n",
       "   'answer': 'Yes, we ship to over 50 countries worldwide. International shipping typically takes 7-14 business days and costs vary by destination. Please note that customs fees may apply.'},\n",
       "  {'id': 3,\n",
       "   'question': 'What payment methods do you accept?',\n",
       "   'answer': 'We accept Visa, Mastercard, American Express, PayPal, and Apple Pay. All payments are processed securely through our encrypted payment system.'}]}"
      ]
     },
     "execution_count": 18,
     "metadata": {},
     "output_type": "execute_result"
    }
   ],
   "source": [
    "result"
   ]
  },
  {
   "cell_type": "markdown",
   "id": "88533f78",
   "metadata": {},
   "source": [
    "#### Step 4: Supply result and call model again"
   ]
  },
  {
   "cell_type": "code",
   "execution_count": 19,
   "id": "531594ea",
   "metadata": {},
   "outputs": [],
   "source": [
    "class KBResponse(BaseModel):\n",
    "    answer: str = Field(description=\"The answer to the user's question.\")\n",
    "    source: int = Field(description=\"The record id of the answer.\")"
   ]
  },
  {
   "cell_type": "code",
   "execution_count": 20,
   "id": "86d64d0b",
   "metadata": {},
   "outputs": [],
   "source": [
    "completion_2 = client.beta.chat.completions.parse(\n",
    "    model=\"gpt-4o\",\n",
    "    messages=messages,\n",
    "    tools=tools,\n",
    "    response_format=KBResponse,\n",
    ")\n"
   ]
  },
  {
   "cell_type": "markdown",
   "id": "ce564ac5",
   "metadata": {},
   "source": [
    "#### Step 5: Check model response"
   ]
  },
  {
   "cell_type": "code",
   "execution_count": 21,
   "id": "6d483a31",
   "metadata": {},
   "outputs": [],
   "source": [
    "final_response = completion_2.choices[0].message.parsed"
   ]
  },
  {
   "cell_type": "code",
   "execution_count": 22,
   "id": "642baf0c",
   "metadata": {},
   "outputs": [
    {
     "data": {
      "text/plain": [
       "KBResponse(answer='Items can be returned within 30 days of purchase with original receipt. Refunds will be processed to the original payment method within 5-7 business days.', source=1)"
      ]
     },
     "execution_count": 22,
     "metadata": {},
     "output_type": "execute_result"
    }
   ],
   "source": [
    "final_response"
   ]
  },
  {
   "cell_type": "code",
   "execution_count": 23,
   "id": "5f79a7ba",
   "metadata": {},
   "outputs": [
    {
     "data": {
      "text/plain": [
       "'Items can be returned within 30 days of purchase with original receipt. Refunds will be processed to the original payment method within 5-7 business days.'"
      ]
     },
     "execution_count": 23,
     "metadata": {},
     "output_type": "execute_result"
    }
   ],
   "source": [
    "final_response.answer"
   ]
  },
  {
   "cell_type": "code",
   "execution_count": 24,
   "id": "5bd7b4d8",
   "metadata": {},
   "outputs": [
    {
     "data": {
      "text/plain": [
       "1"
      ]
     },
     "execution_count": 24,
     "metadata": {},
     "output_type": "execute_result"
    }
   ],
   "source": [
    "\n",
    "final_response.source\n"
   ]
  },
  {
   "cell_type": "markdown",
   "id": "95a4ead5",
   "metadata": {},
   "source": [
    "##### Question that doesn't trigger the tool"
   ]
  },
  {
   "cell_type": "code",
   "execution_count": 25,
   "id": "cfd83ab1",
   "metadata": {},
   "outputs": [],
   "source": [
    "messages = [\n",
    "    {\"role\": \"system\", \"content\": system_prompt},\n",
    "    {\"role\": \"user\", \"content\": \"What is the weather in Tokyo?\"},\n",
    "]\n",
    "\n",
    "completion_3 = client.beta.chat.completions.parse(\n",
    "    model=\"gpt-4o\",\n",
    "    messages=messages,\n",
    "    tools=tools,\n",
    ")"
   ]
  },
  {
   "cell_type": "code",
   "execution_count": 26,
   "id": "00a29338",
   "metadata": {},
   "outputs": [
    {
     "data": {
      "text/plain": [
       "{'id': 'chatcmpl-BU5dv5KsZZoD8JY8kaob8Z3ZHLlDn',\n",
       " 'choices': [{'finish_reason': 'stop',\n",
       "   'index': 0,\n",
       "   'logprobs': None,\n",
       "   'message': {'content': 'I am unable to access real-time weather information. You may want to check a dedicated weather service or app for the current weather in Tokyo.',\n",
       "    'refusal': None,\n",
       "    'role': 'assistant',\n",
       "    'annotations': [],\n",
       "    'audio': None,\n",
       "    'function_call': None,\n",
       "    'tool_calls': None,\n",
       "    'parsed': None}}],\n",
       " 'created': 1746511231,\n",
       " 'model': 'gpt-4o-2024-08-06',\n",
       " 'object': 'chat.completion',\n",
       " 'service_tier': 'default',\n",
       " 'system_fingerprint': 'fp_f5bdcc3276',\n",
       " 'usage': {'completion_tokens': 30,\n",
       "  'prompt_tokens': 75,\n",
       "  'total_tokens': 105,\n",
       "  'completion_tokens_details': {'accepted_prediction_tokens': 0,\n",
       "   'audio_tokens': 0,\n",
       "   'reasoning_tokens': 0,\n",
       "   'rejected_prediction_tokens': 0},\n",
       "  'prompt_tokens_details': {'audio_tokens': 0, 'cached_tokens': 0}}}"
      ]
     },
     "execution_count": 26,
     "metadata": {},
     "output_type": "execute_result"
    }
   ],
   "source": [
    "completion_3.model_dump()"
   ]
  },
  {
   "cell_type": "code",
   "execution_count": 27,
   "id": "0b2ba4a1",
   "metadata": {},
   "outputs": [
    {
     "data": {
      "text/plain": [
       "'I am unable to access real-time weather information. You may want to check a dedicated weather service or app for the current weather in Tokyo.'"
      ]
     },
     "execution_count": 27,
     "metadata": {},
     "output_type": "execute_result"
    }
   ],
   "source": [
    "completion_3.choices[0].message.content"
   ]
  },
  {
   "cell_type": "markdown",
   "id": "9e6ac6e7",
   "metadata": {},
   "source": [
    "> 📖 More details of Function Calling on the [OpenAI Docs](https://platform.openai.com/docs/guides/function-calling)\n",
    "\n"
   ]
  },
  {
   "cell_type": "markdown",
   "id": "ffc99bd4",
   "metadata": {},
   "source": []
  }
 ],
 "metadata": {
  "kernelspec": {
   "display_name": "Python 3",
   "language": "python",
   "name": "python3"
  },
  "language_info": {
   "codemirror_mode": {
    "name": "ipython",
    "version": 3
   },
   "file_extension": ".py",
   "mimetype": "text/x-python",
   "name": "python",
   "nbconvert_exporter": "python",
   "pygments_lexer": "ipython3",
   "version": "3.13.3"
  }
 },
 "nbformat": 4,
 "nbformat_minor": 5
}
