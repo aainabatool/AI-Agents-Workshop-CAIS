{
 "cells": [
  {
   "cell_type": "code",
   "execution_count": 6,
   "id": "cfd28b24",
   "metadata": {},
   "outputs": [],
   "source": [
    "import os\n",
    "import json\n",
    "from datetime import datetime\n",
    "from google_auth_oauthlib.flow import InstalledAppFlow\n",
    "from googleapiclient.discovery import build\n",
    "from googleapiclient.errors import HttpError\n",
    "from openai import OpenAI\n",
    "import base64\n",
    "from email.mime.text import MIMEText\n",
    "from dotenv import load_dotenv"
   ]
  },
  {
   "cell_type": "markdown",
   "id": "c6259aa8",
   "metadata": {},
   "source": [
    "#### Set up OAuth 2.0 for Calendar + Gmail"
   ]
  },
  {
   "cell_type": "code",
   "execution_count": 7,
   "id": "03f70b6b",
   "metadata": {},
   "outputs": [],
   "source": [
    "load_dotenv()  # Load variables from .env file\n",
    "\n",
    "SCOPES = os.getenv(\"SCOPES\").split(\",\")\n",
    "CLIENT_SECRET_FILE = os.getenv(\"CLIENT_SECRET_FILE\")\n",
    "API_NAME = os.getenv(\"API_NAME\")\n",
    "API_VERSION = os.getenv(\"API_VERSION\")\n",
    "\n"
   ]
  },
  {
   "cell_type": "code",
   "execution_count": 8,
   "id": "727ec9c6",
   "metadata": {},
   "outputs": [],
   "source": [
    "def authenticate_google_services():\n",
    "    \"\"\"Authenticate and return both calendar and gmail service clients\"\"\"\n",
    "    flow = InstalledAppFlow.from_client_secrets_file(CLIENT_SECRET_FILE, SCOPES)\n",
    "    creds = flow.run_local_server(port=0)\n",
    "    calendar_service = build(\"calendar\", \"v3\", credentials=creds)\n",
    "    gmail_service = build(\"gmail\", \"v1\", credentials=creds)\n",
    "    return calendar_service, gmail_service"
   ]
  },
  {
   "cell_type": "code",
   "execution_count": 9,
   "id": "d4ccaaa5",
   "metadata": {},
   "outputs": [
    {
     "name": "stdout",
     "output_type": "stream",
     "text": [
      "Please visit this URL to authorize this application: https://accounts.google.com/o/oauth2/auth?response_type=code&client_id=161842291169-u489f31dcc8vlb8vcn5si009jhkj554a.apps.googleusercontent.com&redirect_uri=http%3A%2F%2Flocalhost%3A61928%2F&scope=https%3A%2F%2Fwww.googleapis.com%2Fauth%2Fcalendar+https%3A%2F%2Fwww.googleapis.com%2Fauth%2Fgmail.send&state=YspNWiPl6wl2UTFA4ry0soNhOeGb9L&access_type=offline\n"
     ]
    }
   ],
   "source": [
    "calendar_service, gmail_service = authenticate_google_services()"
   ]
  },
  {
   "cell_type": "markdown",
   "id": "31c17e84",
   "metadata": {},
   "source": [
    "#### Gmail Send Function"
   ]
  },
  {
   "cell_type": "code",
   "execution_count": 10,
   "id": "1a97f1df",
   "metadata": {},
   "outputs": [],
   "source": [
    "def create_message(to, subject, message_text):\n",
    "    message = MIMEText(message_text)\n",
    "    message[\"to\"] = to\n",
    "    message[\"subject\"] = subject\n",
    "    raw = base64.urlsafe_b64encode(message.as_bytes()).decode()\n",
    "    return {\"raw\": raw}"
   ]
  },
  {
   "cell_type": "code",
   "execution_count": 11,
   "id": "4be68760",
   "metadata": {},
   "outputs": [],
   "source": [
    "def send_confirmation_email(to_list, subject, message_text):\n",
    "    for recipient in to_list:\n",
    "        try:\n",
    "            message = create_message(recipient, subject, message_text)\n",
    "            sent_message = (\n",
    "                gmail_service.users()\n",
    "                .messages()\n",
    "                .send(userId=\"me\", body=message)\n",
    "                .execute()\n",
    "            )\n",
    "            print(\n",
    "                f\"✅ Confirmation email sent to {recipient} (Message ID: {sent_message['id']})\"\n",
    "            )\n",
    "        except Exception as e:\n",
    "            print(f\"❌ Failed to send email to {recipient}: {e}\")"
   ]
  },
  {
   "cell_type": "markdown",
   "id": "cb133858",
   "metadata": {},
   "source": [
    "#### OpenAI Setup"
   ]
  },
  {
   "cell_type": "code",
   "execution_count": 12,
   "id": "f7456fb4",
   "metadata": {},
   "outputs": [],
   "source": [
    "client = OpenAI(api_key=os.getenv(\"OPENAI_API_KEY\"))"
   ]
  },
  {
   "cell_type": "code",
   "execution_count": 13,
   "id": "a4d68c9b",
   "metadata": {},
   "outputs": [],
   "source": [
    "\n",
    "tools = [\n",
    "    {\n",
    "        \"type\": \"function\",\n",
    "        \"function\": {\n",
    "            \"name\": \"create_event\",\n",
    "            \"description\": \"Creates a new event in the calendar with provided details.\",\n",
    "            \"parameters\": {\n",
    "                \"type\": \"object\",\n",
    "                \"properties\": {\n",
    "                    \"summary\": {\"type\": \"string\"},\n",
    "                    \"location\": {\"type\": \"string\"},\n",
    "                    \"description\": {\"type\": \"string\"},\n",
    "                    \"start_time\": {\"type\": \"string\", \"format\": \"date-time\"},\n",
    "                    \"end_time\": {\"type\": \"string\", \"format\": \"date-time\"},\n",
    "                    \"attendees\": {\n",
    "                        \"type\": \"array\",\n",
    "                        \"items\": {\"type\": \"string\", \"format\": \"email\"},\n",
    "                    },\n",
    "                },\n",
    "                \"required\": [\"summary\", \"start_time\", \"end_time\", \"attendees\"],\n",
    "            },\n",
    "        },\n",
    "    },\n",
    "    {\n",
    "        \"type\": \"function\",\n",
    "        \"function\": {\n",
    "            \"name\": \"update_event\",\n",
    "            \"description\": \"Updates an existing event in the calendar.\",\n",
    "            \"parameters\": {\n",
    "                \"type\": \"object\",\n",
    "                \"properties\": {\n",
    "                    \"event_id\": {\"type\": \"string\"},\n",
    "                    \"summary\": {\"type\": \"string\"},\n",
    "                    \"location\": {\"type\": \"string\"},\n",
    "                    \"description\": {\"type\": \"string\"},\n",
    "                    \"start_time\": {\"type\": \"string\"},\n",
    "                    \"end_time\": {\"type\": \"string\"},\n",
    "                    \"attendees\": {\n",
    "                        \"type\": \"array\",\n",
    "                        \"items\": {\"type\": \"string\", \"format\": \"email\"},\n",
    "                    },\n",
    "                },\n",
    "                \"required\": [\"event_id\"],\n",
    "            },\n",
    "        },\n",
    "    },\n",
    "]"
   ]
  },
  {
   "cell_type": "markdown",
   "id": "581fd93d",
   "metadata": {},
   "source": [
    "#### GPT Prompt + Event Execution"
   ]
  },
  {
   "cell_type": "code",
   "execution_count": 14,
   "id": "f1f97b13",
   "metadata": {},
   "outputs": [],
   "source": [
    "today = datetime.now()\n",
    "date_context = f\"Today is {today.strftime('%A, %B %d, %Y')}.\"\n"
   ]
  },
  {
   "cell_type": "code",
   "execution_count": 26,
   "id": "98caa38b",
   "metadata": {},
   "outputs": [],
   "source": [
    "messages = [\n",
    "    {\n",
    "        \"role\": \"system\",\n",
    "        \"content\": \"You are an event manager to create or update an event.\",\n",
    "    },\n",
    "    {\n",
    "        \"role\": \"user\",\n",
    "        \"content\": f\"{date_context} Schedule a team meeting tomorrow at 2 PM for 1 hour with muhammadkhubaib182012@gmail.com and pineconelerarner@gmail.com about the new project on google meet, cloud migration.\",\n",
    "    },\n",
    "]"
   ]
  },
  {
   "cell_type": "code",
   "execution_count": 27,
   "id": "10f96b2e",
   "metadata": {},
   "outputs": [],
   "source": [
    "completion = client.chat.completions.create(\n",
    "    model=\"gpt-4o\",\n",
    "    messages=messages,\n",
    "    tools=tools,\n",
    ")\n"
   ]
  },
  {
   "cell_type": "code",
   "execution_count": 28,
   "id": "55f0c49e",
   "metadata": {},
   "outputs": [],
   "source": [
    "tool_calls = completion.choices[0].message.tool_calls"
   ]
  },
  {
   "cell_type": "markdown",
   "id": "5f1c98c6",
   "metadata": {},
   "source": [
    "#### Event Functions"
   ]
  },
  {
   "cell_type": "code",
   "execution_count": 34,
   "id": "1ee39772",
   "metadata": {},
   "outputs": [],
   "source": [
    "\n",
    "def create_event(summary, location, description, start_time, end_time, attendees):\n",
    "    \"\"\"Create a new event and send confirmation email\"\"\"\n",
    "    event = {\n",
    "        \"summary\": summary,\n",
    "        \"location\": location,\n",
    "        \"description\": description,\n",
    "        \"start\": {\n",
    "            \"dateTime\": start_time,\n",
    "            \"timeZone\": \"Asia/Karachi\",\n",
    "        },\n",
    "        \"end\": {\n",
    "            \"dateTime\": end_time,\n",
    "            \"timeZone\": \"Asia/Karachi\",\n",
    "        },\n",
    "        \"attendees\": [{\"email\": email} for email in attendees],\n",
    "        \"reminders\": {\n",
    "            \"useDefault\": False,\n",
    "            \"overrides\": [\n",
    "                {\"method\": \"popup\", \"minutes\": 10},\n",
    "            ],\n",
    "        },\n",
    "        \"conferenceData\": {\n",
    "            \"createRequest\": {\n",
    "                \"requestId\": f\"meet-{int(datetime.utcnow().timestamp())}\",  # unique ID\n",
    "                \"conferenceSolutionKey\": {\"type\": \"hangoutsMeet\"},\n",
    "            }\n",
    "        },\n",
    "    }\n",
    "\n",
    "    try:\n",
    "        created_event = (\n",
    "            calendar_service.events()\n",
    "            .insert(\n",
    "                calendarId=\"primary\",\n",
    "                body=event,\n",
    "                conferenceDataVersion=1,  # Required to generate Meet links\n",
    "            )\n",
    "            .execute()\n",
    "        )\n",
    "        print(f\"📅 Event created: {created_event['htmlLink']}\")\n",
    "\n",
    "        meet_link = created_event.get(\"hangoutLink\", \"No Google Meet link available.\")\n",
    "\n",
    "        subject = f\"Meeting Confirmation: {summary}\"\n",
    "        body = (\n",
    "            f\"You are invited to the meeting:\\n\\n\"\n",
    "            f\"📍 Location: {location}\\n\"\n",
    "            f\"🗓 Start: {start_time}\\n\"\n",
    "            f\"🕒 End: {end_time}\\n\"\n",
    "            f\"📄 Description: {description}\\n\"\n",
    "            f\"🔗 Event Page: {created_event['htmlLink']}\\n\"\n",
    "            f\"📞 Google Meet Link: {meet_link}\"\n",
    "        )\n",
    "        send_confirmation_email(attendees, subject, body)\n",
    "\n",
    "        return created_event\n",
    "    except HttpError as error:\n",
    "        print(f\"An error occurred: {error}\")\n",
    "        return None\n"
   ]
  },
  {
   "cell_type": "code",
   "execution_count": 35,
   "id": "cecd654e",
   "metadata": {},
   "outputs": [],
   "source": [
    "def update_event(\n",
    "    event_id,\n",
    "    summary=None,\n",
    "    location=None,\n",
    "    description=None,\n",
    "    start_time=None,\n",
    "    end_time=None,\n",
    "    attendees=None,\n",
    "):\n",
    "    try:\n",
    "        event = (\n",
    "            calendar_service.events()\n",
    "            .get(calendarId=\"primary\", eventId=event_id)\n",
    "            .execute()\n",
    "        )\n",
    "\n",
    "        if summary:\n",
    "            event[\"summary\"] = summary\n",
    "        if location:\n",
    "            event[\"location\"] = location\n",
    "        if description:\n",
    "            event[\"description\"] = description\n",
    "        if start_time:\n",
    "            event[\"start\"][\"dateTime\"] = start_time\n",
    "        if end_time:\n",
    "            event[\"end\"][\"dateTime\"] = end_time\n",
    "        if attendees:\n",
    "            event[\"attendees\"] = [{\"email\": email} for email in attendees]\n",
    "\n",
    "        updated_event = (\n",
    "            calendar_service.events()\n",
    "            .update(calendarId=\"primary\", eventId=event_id, body=event)\n",
    "            .execute()\n",
    "        )\n",
    "        print(f\"🛠️ Event updated: {updated_event['htmlLink']}\")\n",
    "        return updated_event\n",
    "    except HttpError as error:\n",
    "        print(f\"An error occurred: {error}\")\n",
    "        return None\n"
   ]
  },
  {
   "cell_type": "markdown",
   "id": "5e950333",
   "metadata": {},
   "source": [
    "#### Run Tool Function"
   ]
  },
  {
   "cell_type": "code",
   "execution_count": 36,
   "id": "5aaf6de7",
   "metadata": {},
   "outputs": [],
   "source": [
    "def call_function(name, args):\n",
    "    if name == \"create_event\":\n",
    "        return create_event(**args)\n",
    "    elif name == \"update_event\":\n",
    "        return update_event(**args)"
   ]
  },
  {
   "cell_type": "code",
   "execution_count": 37,
   "id": "87ef5b3f",
   "metadata": {},
   "outputs": [
    {
     "name": "stdout",
     "output_type": "stream",
     "text": [
      "📅 Event created: https://www.google.com/calendar/event?eid=OTFoZXA5NTE4dnM2NXNmbWRsNWxnaW51MDggbWtodWJhaWliMUBt\n",
      "✅ Confirmation email sent to muhammadkhubaib182012@gmail.com (Message ID: 196a293b89896566)\n",
      "✅ Confirmation email sent to pineconelerarner@gmail.com (Message ID: 196a293bdf32db86)\n"
     ]
    }
   ],
   "source": [
    "for tool_call in tool_calls:\n",
    "    name = tool_call.function.name\n",
    "    args = json.loads(tool_call.function.arguments)\n",
    "    messages.append(completion.choices[0].message)\n",
    "\n",
    "    result = call_function(name, args)\n",
    "    messages.append(\n",
    "        {\"role\": \"tool\", \"tool_call_id\": tool_call.id, \"content\": json.dumps(result)}\n",
    "    )\n"
   ]
  }
 ],
 "metadata": {
  "kernelspec": {
   "display_name": ".venv",
   "language": "python",
   "name": "python3"
  },
  "language_info": {
   "codemirror_mode": {
    "name": "ipython",
    "version": 3
   },
   "file_extension": ".py",
   "mimetype": "text/x-python",
   "name": "python",
   "nbconvert_exporter": "python",
   "pygments_lexer": "ipython3",
   "version": "3.11.0"
  }
 },
 "nbformat": 4,
 "nbformat_minor": 5
}
