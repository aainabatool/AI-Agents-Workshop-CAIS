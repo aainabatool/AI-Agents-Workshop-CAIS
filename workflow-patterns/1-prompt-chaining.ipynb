{
 "cells": [
  {
   "cell_type": "markdown",
   "id": "1d77c2b1",
   "metadata": {},
   "source": [
    "### Prompt Chaining\n",
    "\n",
    "Prompt chaining is a powerful pattern that breaks down complex AI tasks into a sequence of smaller, more focused steps. Each step in the chain processes the output from the previous step, allowing for better control, validation, and reliability.\n"
   ]
  },
  {
   "cell_type": "code",
   "execution_count": 1,
   "id": "9c48e4d4",
   "metadata": {},
   "outputs": [],
   "source": [
    "from typing import Optional\n",
    "from datetime import datetime\n",
    "from pydantic import BaseModel, Field\n",
    "from openai import OpenAI\n",
    "import os\n",
    "import logging"
   ]
  },
  {
   "cell_type": "code",
   "execution_count": 2,
   "id": "d05e981d",
   "metadata": {},
   "outputs": [],
   "source": [
    "# Set up logging configuration\n",
    "logging.basicConfig(\n",
    "    level=logging.INFO,\n",
    "    format=\"%(asctime)s - %(levelname)s - %(message)s\",\n",
    "    datefmt=\"%Y-%m-%d %H:%M:%S\",\n",
    ")\n",
    "logger = logging.getLogger(__name__)"
   ]
  },
  {
   "cell_type": "code",
   "execution_count": 3,
   "id": "8f08fd88",
   "metadata": {},
   "outputs": [],
   "source": [
    "client = OpenAI(api_key=os.getenv(\"OPENAI_API_KEY\"))\n",
    "model = \"gpt-4o\""
   ]
  },
  {
   "cell_type": "markdown",
   "id": "8f9852f5",
   "metadata": {},
   "source": [
    "### Calendar Assistant Example\n",
    "\n",
    "Our calendar assistant demonstrates a 3-step prompt chain with validation:\n",
    "\n",
    "![Alt Text](./images/Prompt_Chaining.png)\n",
    "\n"
   ]
  },
  {
   "cell_type": "markdown",
   "id": "8203e849",
   "metadata": {},
   "source": [
    "#### Step 1: Define the data models for each stage\n",
    "\n",
    "\n",
    "##### Step 1.1: Extract & Validate\n",
    "\n",
    "- Determines if the input is actually a calendar request\n",
    "- Provides a confidence score\n",
    "- Acts as an initial filter to prevent processing invalid requests\n",
    "\n"
   ]
  },
  {
   "cell_type": "code",
   "execution_count": 4,
   "id": "5c7cb5c8",
   "metadata": {},
   "outputs": [],
   "source": [
    "class EventExtraction(BaseModel):\n",
    "    \"\"\"First LLM call: Extract basic event information\"\"\"\n",
    "\n",
    "    description: str = Field(description=\"Raw description of the event\")\n",
    "    is_calendar_event: bool = Field(\n",
    "        description=\"Whether this text describes a calendar event\"\n",
    "    )\n",
    "    confidence_score: float = Field(description=\"Confidence score between 0 and 1\")\n"
   ]
  },
  {
   "cell_type": "markdown",
   "id": "967d004e",
   "metadata": {},
   "source": [
    "##### Step 1.2: Parse Details\n",
    "\n",
    "- Extracts specific calendar information\n",
    "- Structures the data (date, time, participants, etc.)\n",
    "- Converts natural language to structured data\n",
    "\n"
   ]
  },
  {
   "cell_type": "code",
   "execution_count": 5,
   "id": "a9deee1b",
   "metadata": {},
   "outputs": [],
   "source": [
    "class EventDetails(BaseModel):\n",
    "    \"\"\"Second LLM call: Parse specific event details\"\"\"\n",
    "\n",
    "    name: str = Field(description=\"Name of the event\")\n",
    "    date: str = Field(\n",
    "        description=\"Date and time of the event. Use ISO 8601 to format this value.\"\n",
    "    )\n",
    "    duration_minutes: int = Field(description=\"Expected duration in minutes\")\n",
    "    participants: list[str] = Field(description=\"List of participants\")\n"
   ]
  },
  {
   "cell_type": "markdown",
   "id": "a1f41ca5",
   "metadata": {},
   "source": [
    "##### Step 1.3: Generate Confirmation\n",
    "\n",
    "- Creates a user-friendly confirmation message\n",
    "- Optionally generates calendar links\n",
    "- Provides the final user response"
   ]
  },
  {
   "cell_type": "code",
   "execution_count": 6,
   "id": "5340c779",
   "metadata": {},
   "outputs": [],
   "source": [
    "class EventConfirmation(BaseModel):\n",
    "    \"\"\"Third LLM call: Generate confirmation message\"\"\"\n",
    "\n",
    "    confirmation_message: str = Field(\n",
    "        description=\"Natural language confirmation message\"\n",
    "    )\n",
    "    calendar_link: Optional[str] = Field(\n",
    "        description=\"Generated calendar link if applicable\"\n",
    "    )"
   ]
  },
  {
   "cell_type": "markdown",
   "id": "afb1ecc9",
   "metadata": {},
   "source": [
    "#### Step 2: Define the functions\n"
   ]
  },
  {
   "cell_type": "code",
   "execution_count": 7,
   "id": "fd94a64e",
   "metadata": {},
   "outputs": [],
   "source": [
    "def extract_event_info(user_input: str) -> EventExtraction:\n",
    "    \"\"\"First LLM call to determine if input is a calendar event\"\"\"\n",
    "    logger.info(\"Starting event extraction analysis\")\n",
    "    logger.debug(f\"Input text: {user_input}\")\n",
    "\n",
    "    today = datetime.now()\n",
    "    date_context = f\"Today is {today.strftime('%A, %B %d, %Y')}.\"\n",
    "\n",
    "    response = client.responses.parse(\n",
    "    model=\"gpt-4o\",\n",
    "    input=user_input,\n",
    "    instructions=f\"{date_context} Analyze if the text describes a calendar event.\",\n",
    "    text_format=EventExtraction,\n",
    "    )\n",
    "    result = response.output[0].content[0].parsed\n",
    "    \n",
    "    logger.info(\n",
    "        f\"Extraction complete - Is calendar event: {result.is_calendar_event}, Confidence: {result.confidence_score:.2f}\"\n",
    "    )\n",
    "    return result"
   ]
  },
  {
   "cell_type": "code",
   "execution_count": 8,
   "id": "ed1d8673",
   "metadata": {},
   "outputs": [],
   "source": [
    "def parse_event_details(description: str) -> EventDetails:\n",
    "    \"\"\"Second LLM call to extract specific event details\"\"\"\n",
    "    logger.info(\"Starting event details parsing\")\n",
    "\n",
    "    today = datetime.now()\n",
    "    date_context = f\"Today is {today.strftime('%A, %B %d, %Y')}.\"\n",
    "\n",
    "    response = client.responses.parse(\n",
    "    model=\"gpt-4o\",\n",
    "    input=description,\n",
    "    instructions=f\"{date_context} Extract detailed event information. When dates reference 'next Tuesday' or similar relative dates, use this current date as reference.\",\n",
    "    text_format=EventDetails,\n",
    "    )\n",
    "    result = response.output[0].content[0].parsed\n",
    "    \n",
    "    logger.info(\n",
    "        f\"Parsed event details - Name: {result.name}, Date: {result.date}, Duration: {result.duration_minutes}min\"\n",
    "    )\n",
    "    logger.debug(f\"Participants: {', '.join(result.participants)}\")\n",
    "    return result"
   ]
  },
  {
   "cell_type": "code",
   "execution_count": 9,
   "id": "de814738",
   "metadata": {},
   "outputs": [],
   "source": [
    "def generate_confirmation(event_details: EventDetails) -> EventConfirmation:\n",
    "    \"\"\"Third LLM call to generate a confirmation message\"\"\"\n",
    "    logger.info(\"Generating confirmation message\")\n",
    "\n",
    "    response = client.responses.parse(\n",
    "    model=\"gpt-4o\",\n",
    "    input=str(event_details.model_dump()),\n",
    "    instructions=\"Generate a natural confirmation message for the event. Sign of with your name; Susie\",\n",
    "    text_format=EventConfirmation,\n",
    "    )\n",
    "    \n",
    "    result = response.output[0].content[0].parsed\n",
    "\n",
    "    logger.info(\"Confirmation message generated successfully\")\n",
    "    return result"
   ]
  },
  {
   "cell_type": "markdown",
   "id": "4eb32222",
   "metadata": {},
   "source": [
    "#### Step 3: Chain the functions together\n"
   ]
  },
  {
   "cell_type": "code",
   "execution_count": 10,
   "id": "5816d4b0",
   "metadata": {},
   "outputs": [],
   "source": [
    "def process_calendar_request(user_input: str) -> Optional[EventConfirmation]:\n",
    "    \"\"\"Main function implementing the prompt chain with gate check\"\"\"\n",
    "    logger.info(\"Processing calendar request\")\n",
    "    logger.debug(f\"Raw input: {user_input}\")\n",
    "\n",
    "    # First LLM call: Extract basic info\n",
    "    initial_extraction = extract_event_info(user_input)\n",
    "\n",
    "    # Gate check: Verify if it's a calendar event with sufficient confidence\n",
    "    if (\n",
    "        not initial_extraction.is_calendar_event\n",
    "        or initial_extraction.confidence_score < 0.7\n",
    "    ):\n",
    "        logger.warning(\n",
    "            f\"Gate check failed - is_calendar_event: {initial_extraction.is_calendar_event}, confidence: {initial_extraction.confidence_score:.2f}\"\n",
    "        )\n",
    "        return None\n",
    "\n",
    "    logger.info(\"Gate check passed, proceeding with event processing\")\n",
    "\n",
    "    # Second LLM call: Get detailed event information\n",
    "    event_details = parse_event_details(initial_extraction.description)\n",
    "\n",
    "    # Third LLM call: Generate confirmation\n",
    "    confirmation = generate_confirmation(event_details)\n",
    "\n",
    "    logger.info(\"Calendar request processing completed successfully\")\n",
    "    return confirmation"
   ]
  },
  {
   "cell_type": "markdown",
   "id": "666984cc",
   "metadata": {},
   "source": [
    "#### Step 4: Test the chain with a valid input"
   ]
  },
  {
   "cell_type": "code",
   "execution_count": 11,
   "id": "1af0e21b",
   "metadata": {},
   "outputs": [],
   "source": [
    "user_input = \"Let's schedule a 1h team meeting next Tuesday at 2pm with Alice and Bob to discuss the project roadmap.\""
   ]
  },
  {
   "cell_type": "code",
   "execution_count": 13,
   "id": "591a0335",
   "metadata": {},
   "outputs": [
    {
     "name": "stderr",
     "output_type": "stream",
     "text": [
      "2025-05-05 23:10:58 - INFO - Processing calendar request\n",
      "2025-05-05 23:10:58 - INFO - Starting event extraction analysis\n",
      "2025-05-05 23:10:59 - INFO - HTTP Request: POST https://api.openai.com/v1/responses \"HTTP/1.1 200 OK\"\n",
      "2025-05-05 23:10:59 - INFO - Extraction complete - Is calendar event: True, Confidence: 0.95\n",
      "2025-05-05 23:10:59 - INFO - Gate check passed, proceeding with event processing\n",
      "2025-05-05 23:10:59 - INFO - Starting event details parsing\n",
      "2025-05-05 23:11:01 - INFO - HTTP Request: POST https://api.openai.com/v1/responses \"HTTP/1.1 200 OK\"\n",
      "2025-05-05 23:11:01 - INFO - Parsed event details - Name: Team Meeting, Date: 2025-05-13T14:00:00, Duration: 60min\n",
      "2025-05-05 23:11:01 - INFO - Generating confirmation message\n",
      "2025-05-05 23:11:03 - INFO - HTTP Request: POST https://api.openai.com/v1/responses \"HTTP/1.1 200 OK\"\n",
      "2025-05-05 23:11:03 - INFO - Confirmation message generated successfully\n",
      "2025-05-05 23:11:03 - INFO - Calendar request processing completed successfully\n"
     ]
    }
   ],
   "source": [
    "result = process_calendar_request(user_input)"
   ]
  },
  {
   "cell_type": "code",
   "execution_count": 14,
   "id": "a6a768a6",
   "metadata": {},
   "outputs": [
    {
     "name": "stdout",
     "output_type": "stream",
     "text": [
      "Confirmation: Hello Alice and Bob,\n",
      "\n",
      "This is a confirmation for our upcoming Team Meeting scheduled for May 13, 2025, at 2:00 PM. The meeting will last approximately 60 minutes.\n",
      "\n",
      "Looking forward to seeing you both there!\n",
      "\n",
      "Best,\n",
      "Susie\n"
     ]
    }
   ],
   "source": [
    "if result:\n",
    "    print(f\"Confirmation: {result.confirmation_message}\")\n",
    "    if result.calendar_link:\n",
    "        print(f\"Calendar Link: {result.calendar_link}\")\n",
    "else:\n",
    "    print(\"This doesn't appear to be a calendar event request.\")"
   ]
  },
  {
   "cell_type": "markdown",
   "id": "462fae1c",
   "metadata": {},
   "source": [
    "\n",
    "#### Step 5: Test the chain with an invalid input\n"
   ]
  },
  {
   "cell_type": "code",
   "execution_count": 15,
   "id": "ca0b7a65",
   "metadata": {},
   "outputs": [],
   "source": [
    "user_input = \"Can you send an email to Alice and Bob to discuss the project roadmap?\""
   ]
  },
  {
   "cell_type": "code",
   "execution_count": 16,
   "id": "337aa3ff",
   "metadata": {},
   "outputs": [
    {
     "name": "stderr",
     "output_type": "stream",
     "text": [
      "2025-05-05 23:11:08 - INFO - Processing calendar request\n",
      "2025-05-05 23:11:08 - INFO - Starting event extraction analysis\n",
      "2025-05-05 23:11:09 - INFO - HTTP Request: POST https://api.openai.com/v1/responses \"HTTP/1.1 200 OK\"\n",
      "2025-05-05 23:11:09 - INFO - Extraction complete - Is calendar event: False, Confidence: 0.90\n",
      "2025-05-05 23:11:09 - WARNING - Gate check failed - is_calendar_event: False, confidence: 0.90\n"
     ]
    }
   ],
   "source": [
    "result = process_calendar_request(user_input)\n"
   ]
  },
  {
   "cell_type": "code",
   "execution_count": 17,
   "id": "91173fb4",
   "metadata": {},
   "outputs": [
    {
     "name": "stdout",
     "output_type": "stream",
     "text": [
      "This doesn't appear to be a calendar event request.\n"
     ]
    }
   ],
   "source": [
    "if result:\n",
    "    print(f\"Confirmation: {result.confirmation_message}\")\n",
    "    if result.calendar_link:\n",
    "        print(f\"Calendar Link: {result.calendar_link}\")\n",
    "else:\n",
    "    print(\"This doesn't appear to be a calendar event request.\")"
   ]
  }
 ],
 "metadata": {
  "kernelspec": {
   "display_name": "Python 3",
   "language": "python",
   "name": "python3"
  },
  "language_info": {
   "codemirror_mode": {
    "name": "ipython",
    "version": 3
   },
   "file_extension": ".py",
   "mimetype": "text/x-python",
   "name": "python",
   "nbconvert_exporter": "python",
   "pygments_lexer": "ipython3",
   "version": "3.13.3"
  }
 },
 "nbformat": 4,
 "nbformat_minor": 5
}
