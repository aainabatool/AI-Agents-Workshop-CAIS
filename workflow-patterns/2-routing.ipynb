{
 "cells": [
  {
   "cell_type": "markdown",
   "id": "76d271f4",
   "metadata": {},
   "source": [
    "### Routing\n",
    "\n",
    "Routing is a pattern that directs different types of requests to specialized handlers. This allows for optimized processing of distinct request types while maintaining a clean separation of concerns.\n",
    "\n",
    "#### Calendar Assistant Example\n",
    "\n",
    "Our calendar assistant demonstrates routing between new event creation and event modification:\n",
    "\n",
    "![Alt Text](./images/Routing.png)\n"
   ]
  },
  {
   "cell_type": "code",
   "execution_count": 13,
   "id": "ec2cd902",
   "metadata": {},
   "outputs": [],
   "source": [
    "from typing import Optional, Literal\n",
    "from pydantic import BaseModel, Field\n",
    "from datetime import datetime\n",
    "from openai import OpenAI\n",
    "import os\n",
    "import logging"
   ]
  },
  {
   "cell_type": "code",
   "execution_count": 14,
   "id": "8ce2cfe3",
   "metadata": {},
   "outputs": [],
   "source": [
    "# Set up logging configuration\n",
    "logging.basicConfig(\n",
    "    level=logging.INFO,\n",
    "    format=\"%(asctime)s - %(levelname)s - %(message)s\",\n",
    "    datefmt=\"%Y-%m-%d %H:%M:%S\",\n",
    ")\n",
    "logger = logging.getLogger(__name__)"
   ]
  },
  {
   "cell_type": "code",
   "execution_count": 15,
   "id": "d61c56b0",
   "metadata": {},
   "outputs": [],
   "source": [
    "client = OpenAI(api_key=os.getenv(\"OPENAI_API_KEY\"))\n",
    "model = \"gpt-4o\""
   ]
  },
  {
   "cell_type": "markdown",
   "id": "03bf88c4",
   "metadata": {},
   "source": [
    "#### Specialized Handlers\n",
    "\n",
    "- New Event Handler: Creates calendar events\n",
    "- Modify Event Handler: Updates existing events\n",
    "- Each optimized for its specific task"
   ]
  },
  {
   "cell_type": "markdown",
   "id": "dc26b582",
   "metadata": {},
   "source": [
    "##### Step 1: Define the data models for routing and responses\n"
   ]
  },
  {
   "cell_type": "code",
   "execution_count": 16,
   "id": "8ee07c17",
   "metadata": {},
   "outputs": [],
   "source": [
    "class CalendarRequestType(BaseModel):\n",
    "    \"\"\"Router LLM call: Determine the type of calendar request\"\"\"\n",
    "\n",
    "    request_type: Literal[\"new_event\", \"modify_event\", \"other\"] = Field(\n",
    "        description=\"Type of calendar request being made\"\n",
    "    )\n",
    "    confidence_score: float = Field(description=\"Confidence score between 0 and 1\")\n",
    "    description: str = Field(description=\"Cleaned description of the request\")"
   ]
  },
  {
   "cell_type": "code",
   "execution_count": 17,
   "id": "7a71fe2e",
   "metadata": {},
   "outputs": [],
   "source": [
    "class NewEventDetails(BaseModel):\n",
    "    \"\"\"Details for creating a new event\"\"\"\n",
    "\n",
    "    name: str = Field(description=\"Name of the event\")\n",
    "    date: str = Field(description=\"Date and time of the event (ISO 8601)\")\n",
    "    duration_minutes: int = Field(description=\"Duration in minutes\")\n",
    "    participants: list[str] = Field(description=\"List of participants\")\n"
   ]
  },
  {
   "cell_type": "code",
   "execution_count": 18,
   "id": "dc5e7191",
   "metadata": {},
   "outputs": [],
   "source": [
    "class Change(BaseModel):\n",
    "    \"\"\"Details for changing an existing event\"\"\"\n",
    "\n",
    "    field: str = Field(description=\"Field to change\")\n",
    "    new_value: str = Field(description=\"New value for the field\")"
   ]
  },
  {
   "cell_type": "code",
   "execution_count": 19,
   "id": "d1a95560",
   "metadata": {},
   "outputs": [],
   "source": [
    "class ModifyEventDetails(BaseModel):\n",
    "    \"\"\"Details for modifying an existing event\"\"\"\n",
    "\n",
    "    event_identifier: str = Field(\n",
    "        description=\"Description to identify the existing event\"\n",
    "    )\n",
    "    changes: list[Change] = Field(description=\"List of changes to make\")\n",
    "    participants_to_add: list[str] = Field(description=\"New participants to add\")\n",
    "    participants_to_remove: list[str] = Field(description=\"Participants to remove\")"
   ]
  },
  {
   "cell_type": "code",
   "execution_count": 20,
   "id": "3f0b5be9",
   "metadata": {},
   "outputs": [],
   "source": [
    "class CalendarResponse(BaseModel):\n",
    "    \"\"\"Final response format\"\"\"\n",
    "\n",
    "    success: bool = Field(description=\"Whether the operation was successful\")\n",
    "    message: str = Field(description=\"User-friendly response message\")\n",
    "    calendar_link: Optional[str] = Field(description=\"Calendar link if applicable\")"
   ]
  },
  {
   "cell_type": "markdown",
   "id": "2f6870db",
   "metadata": {},
   "source": [
    "##### Step 2: Define the routing and processing functions\n"
   ]
  },
  {
   "cell_type": "code",
   "execution_count": 21,
   "id": "d96f6778",
   "metadata": {},
   "outputs": [],
   "source": [
    "def route_calendar_request(user_input: str) -> CalendarRequestType:\n",
    "    \"\"\"Router LLM call to determine the type of calendar request\"\"\"\n",
    "    logger.info(\"Routing calendar request\")\n",
    "\n",
    "    response = client.responses.parse(\n",
    "    model=\"gpt-4o\",\n",
    "    input=user_input,\n",
    "    instructions=\"Determine if this is a request to create a new calendar event or modify an existing one.\",\n",
    "    text_format=CalendarRequestType,\n",
    "    )\n",
    "    result = response.output[0].content[0].parsed\n",
    "    \n",
    "    logger.info(\n",
    "        f\"Request routed as: {result.request_type} with confidence: {result.confidence_score}\"\n",
    "    )\n",
    "    return result"
   ]
  },
  {
   "cell_type": "code",
   "execution_count": 22,
   "id": "33aebe15",
   "metadata": {},
   "outputs": [],
   "source": [
    "def handle_new_event(description: str) -> CalendarResponse:\n",
    "    \"\"\"Process a new event request\"\"\"\n",
    "    logger.info(\"Processing new event request\")\n",
    "\n",
    "    today = datetime.now()\n",
    "    date_context = f\"Today is {today.strftime('%A, %B %d, %Y')}.\"\n",
    "\n",
    "    # Get event details\n",
    "    response = client.responses.parse(\n",
    "    model=\"gpt-4o\",\n",
    "    input=description,\n",
    "    instructions=f\"{date_context} Extract details for creating a new calendar event.\",\n",
    "    text_format=NewEventDetails,\n",
    "    )\n",
    "    details = response.output[0].content[0].parsed\n",
    "\n",
    "    logger.info(f\"New event: {details.model_dump_json(indent=2)}\")\n",
    "\n",
    "    # Generate response\n",
    "    return CalendarResponse(\n",
    "        success=True,\n",
    "        message=f\"Created new event '{details.name}' for {details.date} with {', '.join(details.participants)}\",\n",
    "        calendar_link=f\"calendar://new?event={details.name}\",\n",
    "    )"
   ]
  },
  {
   "cell_type": "code",
   "execution_count": 23,
   "id": "9ef39259",
   "metadata": {},
   "outputs": [],
   "source": [
    "def handle_modify_event(description: str) -> CalendarResponse:\n",
    "    \"\"\"Process an event modification request\"\"\"\n",
    "    logger.info(\"Processing event modification request\")\n",
    "\n",
    "    today = datetime.now()\n",
    "    date_context = f\"Today is {today.strftime('%A, %B %d, %Y')}.\"\n",
    "    \n",
    "    # Get modification details\n",
    "    response = client.responses.parse(\n",
    "    model=\"gpt-4o\",\n",
    "    input=description,\n",
    "    instructions=f\"{date_context} Extract details for modifying an existing calendar event.\",\n",
    "    text_format=ModifyEventDetails,\n",
    "    )\n",
    "    details = response.output[0].content[0].parsed\n",
    "\n",
    "    logger.info(f\"Modified event: {details.model_dump_json(indent=2)}\")\n",
    "\n",
    "    # Generate response\n",
    "    return CalendarResponse(\n",
    "        success=True,\n",
    "        message=f\"Modified event '{details.event_identifier}' with the requested changes\",\n",
    "        calendar_link=f\"calendar://modify?event={details.event_identifier}\",\n",
    "    )"
   ]
  },
  {
   "cell_type": "markdown",
   "id": "b96138ea",
   "metadata": {},
   "source": [
    "#### Router\n",
    "\n",
    "- Classifies the request type (new/modify event)\n",
    "- Provides confidence scoring\n",
    "- Cleans and standardizes the input"
   ]
  },
  {
   "cell_type": "code",
   "execution_count": 24,
   "id": "de26bb30",
   "metadata": {},
   "outputs": [],
   "source": [
    "def process_calendar_request(user_input: str) -> Optional[CalendarResponse]:\n",
    "    \"\"\"Main function implementing the routing workflow\"\"\"\n",
    "    logger.info(\"Processing calendar request\")\n",
    "\n",
    "    # Route the request\n",
    "    route_result = route_calendar_request(user_input)\n",
    "\n",
    "    # Check confidence threshold\n",
    "    if route_result.confidence_score < 0.7:\n",
    "        logger.warning(f\"Low confidence score: {route_result.confidence_score}\")\n",
    "        return None\n",
    "\n",
    "    # Route to appropriate handler\n",
    "    if route_result.request_type == \"new_event\":\n",
    "        return handle_new_event(route_result.description)\n",
    "    elif route_result.request_type == \"modify_event\":\n",
    "        return handle_modify_event(route_result.description)\n",
    "    else:\n",
    "        logger.warning(\"Request type not supported\")\n",
    "        return None"
   ]
  },
  {
   "cell_type": "markdown",
   "id": "7d45a848",
   "metadata": {},
   "source": [
    "##### Step 3: Test with new event"
   ]
  },
  {
   "cell_type": "code",
   "execution_count": 25,
   "id": "803270fa",
   "metadata": {},
   "outputs": [
    {
     "name": "stderr",
     "output_type": "stream",
     "text": [
      "2025-05-05 14:37:28 - INFO - Processing calendar request\n",
      "2025-05-05 14:37:28 - INFO - Routing calendar request\n",
      "2025-05-05 14:37:30 - INFO - HTTP Request: POST https://api.openai.com/v1/responses \"HTTP/1.1 200 OK\"\n",
      "2025-05-05 14:37:30 - INFO - Request routed as: new_event with confidence: 0.95\n",
      "2025-05-05 14:37:30 - INFO - Processing new event request\n",
      "2025-05-05 14:37:32 - INFO - HTTP Request: POST https://api.openai.com/v1/responses \"HTTP/1.1 200 OK\"\n",
      "2025-05-05 14:37:32 - INFO - New event: {\n",
      "  \"name\": \"Team Meeting\",\n",
      "  \"date\": \"2025-05-13T14:00:00\",\n",
      "  \"duration_minutes\": 60,\n",
      "  \"participants\": [\n",
      "    \"Alice\",\n",
      "    \"Bob\"\n",
      "  ]\n",
      "}\n"
     ]
    },
    {
     "name": "stdout",
     "output_type": "stream",
     "text": [
      "Response: Created new event 'Team Meeting' for 2025-05-13T14:00:00 with Alice, Bob\n"
     ]
    }
   ],
   "source": [
    "new_event_input = \"Let's schedule a team meeting next Tuesday at 2pm with Alice and Bob\"\n",
    "result = process_calendar_request(new_event_input)\n",
    "if result:\n",
    "    print(f\"Response: {result.message}\")"
   ]
  },
  {
   "cell_type": "markdown",
   "id": "1f16849c",
   "metadata": {},
   "source": [
    "##### Step 4: Test with modify event"
   ]
  },
  {
   "cell_type": "code",
   "execution_count": 26,
   "id": "a27b229c",
   "metadata": {},
   "outputs": [
    {
     "name": "stderr",
     "output_type": "stream",
     "text": [
      "2025-05-05 14:37:40 - INFO - Processing calendar request\n",
      "2025-05-05 14:37:40 - INFO - Routing calendar request\n",
      "2025-05-05 14:37:42 - INFO - HTTP Request: POST https://api.openai.com/v1/responses \"HTTP/1.1 200 OK\"\n",
      "2025-05-05 14:37:42 - INFO - Request routed as: modify_event with confidence: 0.95\n",
      "2025-05-05 14:37:42 - INFO - Processing event modification request\n",
      "2025-05-05 14:37:43 - INFO - HTTP Request: POST https://api.openai.com/v1/responses \"HTTP/1.1 200 OK\"\n",
      "2025-05-05 14:37:44 - INFO - Modified event: {\n",
      "  \"event_identifier\": \"Team meeting with Alice and Bob\",\n",
      "  \"changes\": [\n",
      "    {\n",
      "      \"field\": \"Date and Time\",\n",
      "      \"new_value\": \"Wednesday at 3pm\"\n",
      "    }\n",
      "  ],\n",
      "  \"participants_to_add\": [],\n",
      "  \"participants_to_remove\": []\n",
      "}\n"
     ]
    },
    {
     "name": "stdout",
     "output_type": "stream",
     "text": [
      "Response: Modified event 'Team meeting with Alice and Bob' with the requested changes\n"
     ]
    }
   ],
   "source": [
    "modify_event_input = (\n",
    "    \"Can you move the team meeting with Alice and Bob to Wednesday at 3pm instead?\"\n",
    ")\n",
    "result = process_calendar_request(modify_event_input)\n",
    "if result:\n",
    "    print(f\"Response: {result.message}\")\n"
   ]
  },
  {
   "cell_type": "markdown",
   "id": "088baa0c",
   "metadata": {},
   "source": [
    "##### Step 5: Test with invalid request"
   ]
  },
  {
   "cell_type": "code",
   "execution_count": 27,
   "id": "63bf79ee",
   "metadata": {},
   "outputs": [
    {
     "name": "stderr",
     "output_type": "stream",
     "text": [
      "2025-05-05 14:38:01 - INFO - Processing calendar request\n",
      "2025-05-05 14:38:01 - INFO - Routing calendar request\n",
      "2025-05-05 14:38:02 - INFO - HTTP Request: POST https://api.openai.com/v1/responses \"HTTP/1.1 200 OK\"\n",
      "2025-05-05 14:38:02 - INFO - Request routed as: other with confidence: 0.95\n",
      "2025-05-05 14:38:02 - WARNING - Request type not supported\n"
     ]
    },
    {
     "name": "stdout",
     "output_type": "stream",
     "text": [
      "Request not recognized as a calendar operation\n"
     ]
    }
   ],
   "source": [
    "invalid_input = \"What's the weather like today?\"\n",
    "result = process_calendar_request(invalid_input)\n",
    "if not result:\n",
    "    print(\"Request not recognized as a calendar operation\")"
   ]
  }
 ],
 "metadata": {
  "kernelspec": {
   "display_name": ".venv",
   "language": "python",
   "name": "python3"
  },
  "language_info": {
   "codemirror_mode": {
    "name": "ipython",
    "version": 3
   },
   "file_extension": ".py",
   "mimetype": "text/x-python",
   "name": "python",
   "nbconvert_exporter": "python",
   "pygments_lexer": "ipython3",
   "version": "3.11.0"
  }
 },
 "nbformat": 4,
 "nbformat_minor": 5
}
